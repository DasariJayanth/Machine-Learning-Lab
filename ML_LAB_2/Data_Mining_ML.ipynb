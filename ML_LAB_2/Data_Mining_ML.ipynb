{
  "nbformat": 4,
  "nbformat_minor": 0,
  "metadata": {
    "colab": {
      "name": "ML_LAB_2.ipynb",
      "provenance": [],
      "collapsed_sections": []
    },
    "kernelspec": {
      "name": "python3",
      "display_name": "Python 3"
    },
    "language_info": {
      "name": "python"
    }
  },
  "cells": [
    {
      "cell_type": "markdown",
      "source": [
        "# Data Structures\n",
        "1. Array\n",
        "2. List\n",
        "3. Set\n",
        "4. Dictionary\n",
        "5. Tuple  \n",
        "  \n",
        "Defining the Data Structures  "
      ],
      "metadata": {
        "id": "ZLMBeprECiFV"
      }
    },
    {
      "cell_type": "code",
      "source": [
        "# Array\n",
        "\n",
        "import array\n",
        "\n",
        "# ALL ele should be of same datatype\n",
        "\n",
        "a = array.array('i',[0,1])\n",
        "print(f\"Array a ==> {a} of type ==> {type(a)} of length ==> {len(a)}\")\n",
        "\n"
      ],
      "metadata": {
        "colab": {
          "base_uri": "https://localhost:8080/"
        },
        "id": "KdLM_OrBCiip",
        "outputId": "66bb5885-7277-4655-a9b7-fb8e77337803"
      },
      "execution_count": 293,
      "outputs": [
        {
          "output_type": "stream",
          "name": "stdout",
          "text": [
            "Array a ==> array('i', [0, 1]) of type ==> <class 'array.array'> of length ==> 2\n"
          ]
        }
      ]
    },
    {
      "cell_type": "code",
      "source": [
        "# List\n",
        "\n",
        "# defining empty list\n",
        "\n",
        "l1 = list() \n",
        "l2 = []\n",
        "print(f\" l1 ===> {type(l1)}\\n l2 ===> {type(l2)}\")\n",
        "#--------------------------------------------------------------------------------------\n",
        "\n",
        "# defining lists\n",
        "\n",
        "l1 = list((\"a\",\"b\",\"c\",\"d\"))\n",
        "l2 = [5,\"3\",\"learning\"]\n",
        "l3 = [10]*5\n",
        "print(f\" l1 ===> {type(l1)} ===> {l1} of length ===> {len(l1)}\\n l2 ===> {type(l2)} ===> {l2} of length ===> {len(l2)}\\n l3 ===> {type(l3)} ===> {l3} of length ===> {len(l3)}\")\n"
      ],
      "metadata": {
        "id": "BPWcSHSAC2WT",
        "colab": {
          "base_uri": "https://localhost:8080/"
        },
        "outputId": "6e694f2b-cb9c-4645-c99b-953f7c837f99"
      },
      "execution_count": 294,
      "outputs": [
        {
          "output_type": "stream",
          "name": "stdout",
          "text": [
            " l1 ===> <class 'list'>\n",
            " l2 ===> <class 'list'>\n",
            " l1 ===> <class 'list'> ===> ['a', 'b', 'c', 'd'] of length ===> 4\n",
            " l2 ===> <class 'list'> ===> [5, '3', 'learning'] of length ===> 3\n",
            " l3 ===> <class 'list'> ===> [10, 10, 10, 10, 10] of length ===> 5\n"
          ]
        }
      ]
    },
    {
      "cell_type": "code",
      "source": [
        "# Set\n",
        "\n",
        "s1 = {1,2,3,\"hi\"}\n",
        "s2 = set((1,2,\"h\",\"h\"))\n",
        "s  = {} \n",
        "print(type(s))\n",
        "# so for empty set, use set()\n",
        "s3 = set()\n",
        "print(type(s3)) \n",
        "print(f\"s1 ===> {type(s1)} ===> {s1} of length ===> {len(s1)}\")\n",
        "print(f\"s2 ===> {type(s2)} ===> {s2} of length ===> {len(s2)}\")"
      ],
      "metadata": {
        "id": "zs_AIGD7C7PD",
        "colab": {
          "base_uri": "https://localhost:8080/"
        },
        "outputId": "a19d24d6-b7c7-4de9-c653-fd2367d4fb88"
      },
      "execution_count": 295,
      "outputs": [
        {
          "output_type": "stream",
          "name": "stdout",
          "text": [
            "<class 'dict'>\n",
            "<class 'set'>\n",
            "s1 ===> <class 'set'> ===> {'hi', 1, 2, 3} of length ===> 4\n",
            "s2 ===> <class 'set'> ===> {1, 2, 'h'} of length ===> 3\n"
          ]
        }
      ]
    },
    {
      "cell_type": "code",
      "source": [
        "# Dictionary\n",
        "  \n",
        "d1 = dict(name=\"DJ\",clg='IIITM')\n",
        "d2 = {\"batch\":\"2019\",\"branch\":\"CSE\",\"grade\":\"8.25\"}\n",
        "d = dict() # or {} # for empty dict\n",
        " \n",
        "print(f\"d1 ===> {type(d1)} ===> {d1} of length ===> {len(d1)}\")\n",
        "print(f\"d2 ===> {type(d2)} ===> {d2} of length ===> {len(d2)}\")"
      ],
      "metadata": {
        "id": "3jUi8LiAC85p",
        "colab": {
          "base_uri": "https://localhost:8080/"
        },
        "outputId": "6a1ebab2-f178-492e-b1c7-3c21c2fedb13"
      },
      "execution_count": 296,
      "outputs": [
        {
          "output_type": "stream",
          "name": "stdout",
          "text": [
            "d1 ===> <class 'dict'> ===> {'name': 'DJ', 'clg': 'IIITM'} of length ===> 2\n",
            "d2 ===> <class 'dict'> ===> {'batch': '2019', 'branch': 'CSE', 'grade': '8.25'} of length ===> 3\n"
          ]
        }
      ]
    },
    {
      "cell_type": "code",
      "source": [
        "# Tuple  \n",
        "# used to store multiple values in single variable \n",
        "\n",
        "mytuple = (\"TOP\",10,\"located\",\"in\",\"south India\")\n",
        "mt = tuple([\"hi\"])\n",
        "print(f\"mytuple ==> {type(mytuple)} of length ===> {len(mytuple)}\")\n",
        "print(f\"mytuple ==> {type(())}\")\n",
        "print(f\"mytuple ==> {type(mt)}\")\n",
        "\n",
        "# If only single element is there in tuple it is considered as a str\n",
        "print(f\"mytuple ==> {type(('Hi'))}\") \n"
      ],
      "metadata": {
        "id": "G9c0mx_zC34D",
        "colab": {
          "base_uri": "https://localhost:8080/"
        },
        "outputId": "4a773d8e-3e38-4f27-ebae-dd1cb2338d33"
      },
      "execution_count": 297,
      "outputs": [
        {
          "output_type": "stream",
          "name": "stdout",
          "text": [
            "mytuple ==> <class 'tuple'> of length ===> 5\n",
            "mytuple ==> <class 'tuple'>\n",
            "mytuple ==> <class 'tuple'>\n",
            "mytuple ==> <class 'str'>\n"
          ]
        }
      ]
    },
    {
      "cell_type": "markdown",
      "source": [
        "# Operations, Characteristics in Memory Requirements and Mutability on Data Structures"
      ],
      "metadata": {
        "id": "VJu8rzloC_Mb"
      }
    },
    {
      "cell_type": "code",
      "source": [
        "# Array\n",
        "\n",
        "# ordered, mutable, allows duplicates\n",
        "\n",
        "import array\n",
        "\n",
        "a = array.array('i',[0,1,2,3,4])\n",
        "\n",
        "for i in a[:]:\n",
        "  print(i, end=\" \")\n",
        "print()\n",
        "print(\"----------------------------------------------------------------------------------------------------------\")\n",
        "\n",
        "a.append(100)\n",
        "a.insert(3,9)\n",
        "\n",
        "print(f\"a after changes ==> {a}\")\n",
        "print(\"----------------------------------------------------------------------------------------------------------\")  \n",
        "a1 = array.array('i',[0,1,2])\n",
        "# print(f\"size of empty array is {sys.getsizeof(array.array())} bytes\") # size of empty list \n",
        "print(f\"size of      a      is {sys.getsizeof(a)} bytes\")\n",
        "print(f\"size of      a1     is {sys.getsizeof(a1)} bytes\")"
      ],
      "metadata": {
        "id": "0wvsR2yGDYd5",
        "colab": {
          "base_uri": "https://localhost:8080/"
        },
        "outputId": "d31a0651-7e74-46df-94d7-e410d6b0f6b6"
      },
      "execution_count": 298,
      "outputs": [
        {
          "output_type": "stream",
          "name": "stdout",
          "text": [
            "0 1 2 3 4 \n",
            "----------------------------------------------------------------------------------------------------------\n",
            "a after changes ==> array('i', [0, 1, 2, 9, 3, 4, 100])\n",
            "----------------------------------------------------------------------------------------------------------\n",
            "size of      a      is 100 bytes\n",
            "size of      a1     is 76 bytes\n"
          ]
        }
      ]
    },
    {
      "cell_type": "code",
      "source": [
        "# List\n",
        "\n",
        "# ordered, mutable,allows duplicate elements\n",
        "#---------------------------------------------------------------------------------------------------------------\n",
        "l1 = [\"hi\", \"every\",\"one\",[2,3],\"MJ\"]\n",
        "l2 = [\"namaste\", \"welcome\"]\n",
        "\n",
        "l1[0] =\"hello\"\n",
        "\n",
        "print(f\"element at index 1 ==> {l1[1]}\") #accessing the elements\n",
        "print(f\"element at index 3 ==> {l1[3]}\") #accessing the elements\n",
        "print(f\"acessing index 3,1 ==> {l1[3][1]}\") #accessing the elements\n",
        "print(\"elements of list l1 ==> \",end='')\n",
        "for i in l1:\n",
        "  print(i,end='')\n",
        "print()\n",
        "\n",
        "print(\"----------------------------------------------------------------------------------------------------------\")\n",
        "\n",
        "l1.append(4) #appends element at end  \n",
        "print(f\"l1 after appending ==> {l1}\")\n",
        "l1.insert(2,\"inserted\") #inserts element at the specified index position\n",
        "print(f\"l1 after Insertion ==> {l1}\")\n",
        "\n",
        "l1.pop()  # pops/deletes last element and returns it\n",
        "print(f\"l1 after Popping   ==> {l1}\")\n",
        "rmv = l2.remove(\"namaste\") # removes the specified element from the list\n",
        "print(f\"l1 after Removing  ==> {l2}\")\n",
        "\n",
        "s_l1 = l1[:3]             # slicing, returns the portion of the list present between the given indices [start:end:---],\n",
        "s_l2 = l1[:4:2]           # can include last parameter like 2 to increment by 2 after every element  \n",
        "print(f\"s_l1 after Slicing ==> {s_l1}\")\n",
        "print(f\"s_l2 after Slicing ==> {s_l2}\")\n",
        "\n",
        "s_l1.sort() # sorts the list on which it is called(by default asc order)  \n",
        "print(f\"s_l1 after Sorted  ==> {s_l1}\")\n",
        "print(f\"s_l1 after Sorted  ==> {sorted(s_l1, reverse = True)}\")\n",
        "\n",
        "l = l1+l2     # adding two lists\n",
        "l1.extend(l2) # appending two lists\n",
        "print(f\"list after adding  ==> {l}\")\n",
        "print(f\"list after extend  ==> {l1}\")\n",
        "\n",
        "\n",
        "\n",
        "\n",
        "print(\"----------------------------------------------------------------------------------------------------------\")\n",
        "import sys\n",
        "\n",
        "print(f\"size of empty list is {sys.getsizeof([])} bytes\") # size of empty list \n",
        "print(f\"size of      b     is {sys.getsizeof([1])} bytes\")\n",
        "print(f\"size of      c     is {sys.getsizeof(['i'])} bytes\")\n",
        "print(f\"size of      a     is {sys.getsizeof(['he',[8, 9.0],'el'])} bytes\")\n",
        "\n",
        "# We can observe that size required for initialization of list or for empty list is 72 bytes\n",
        "# i.e, Minimum size of a list is 72.\n",
        "# And after that for each element of list, requires 8 bytes memory, can observe it in below printed statements.\n",
        "# any iterable inside a list is also considered as a single element\n"
      ],
      "metadata": {
        "colab": {
          "base_uri": "https://localhost:8080/"
        },
        "id": "Jmfz6LYzDYd6",
        "outputId": "bb696b38-2b35-4321-85b8-5c8aeaec0a61"
      },
      "execution_count": 299,
      "outputs": [
        {
          "output_type": "stream",
          "name": "stdout",
          "text": [
            "element at index 1 ==> every\n",
            "element at index 3 ==> [2, 3]\n",
            "acessing index 3,1 ==> 3\n",
            "elements of list l1 ==> helloeveryone[2, 3]MJ\n",
            "----------------------------------------------------------------------------------------------------------\n",
            "l1 after appending ==> ['hello', 'every', 'one', [2, 3], 'MJ', 4]\n",
            "l1 after Insertion ==> ['hello', 'every', 'inserted', 'one', [2, 3], 'MJ', 4]\n",
            "l1 after Popping   ==> ['hello', 'every', 'inserted', 'one', [2, 3], 'MJ']\n",
            "l1 after Removing  ==> ['welcome']\n",
            "s_l1 after Slicing ==> ['hello', 'every', 'inserted']\n",
            "s_l2 after Slicing ==> ['hello', 'inserted']\n",
            "s_l1 after Sorted  ==> ['every', 'hello', 'inserted']\n",
            "s_l1 after Sorted  ==> ['inserted', 'hello', 'every']\n",
            "list after adding  ==> ['hello', 'every', 'inserted', 'one', [2, 3], 'MJ', 'welcome']\n",
            "list after extend  ==> ['hello', 'every', 'inserted', 'one', [2, 3], 'MJ', 'welcome']\n",
            "----------------------------------------------------------------------------------------------------------\n",
            "size of empty list is 72 bytes\n",
            "size of      b     is 80 bytes\n",
            "size of      c     is 80 bytes\n",
            "size of      a     is 96 bytes\n"
          ]
        }
      ]
    },
    {
      "cell_type": "code",
      "source": [
        "\n",
        "# Set\n",
        "\n",
        "# Unorderd, Mutable, No Duplicates\n",
        "\n",
        "s1 = {1,2,3,\"hi\",\"hi\"}\n",
        "print(f\"set ==> {s1} type is ==> {type(s1)} of len ==> {len(s1)}\")\n",
        "# since unordered can't access by index\n",
        "\n",
        "print(\"----------------------------------------------------------------------------------------------------------\")\n",
        "\n",
        "s1.add(4) \n",
        "s1.pop()\n",
        "print(f\"set after changes ==> {s1}\")\n",
        "print(\"----------------------------------------------------------------------------------------------------------\")\n",
        "\n",
        "import sys\n",
        "\n",
        "set1 = {1,2,3,\"hi\",\"hi\"}\n",
        "set2 = {1,2,'q','a','b'}\n",
        "set3 = {}\n",
        "print(f\"size of empty set is {sys.getsizeof(set3)} bytes\")   # size of empty set \n",
        "print(f\"size of s2    set is {sys.getsizeof(set2)} bytes\")\n",
        "print(f\"size of s1    set is {sys.getsizeof(set1)} bytes\")"
      ],
      "metadata": {
        "id": "IeVy0bIaDYd6",
        "colab": {
          "base_uri": "https://localhost:8080/"
        },
        "outputId": "38a9b558-4c7e-4bcf-c4da-d0155aebff77"
      },
      "execution_count": 300,
      "outputs": [
        {
          "output_type": "stream",
          "name": "stdout",
          "text": [
            "set ==> {'hi', 1, 2, 3} type is ==> <class 'set'> of len ==> 4\n",
            "----------------------------------------------------------------------------------------------------------\n",
            "set after changes ==> {2, 3, 4, 'hi'}\n",
            "----------------------------------------------------------------------------------------------------------\n",
            "size of empty set is 248 bytes\n",
            "size of s2    set is 744 bytes\n",
            "size of s1    set is 232 bytes\n"
          ]
        }
      ]
    },
    {
      "cell_type": "code",
      "source": [
        "# Dictionary\n",
        "\n",
        "# key-value pairs, Unordered, Mutable, key values should be unique \n",
        "\n",
        "d1 = dict(name=\"DJ\",clg='IIITM')\n",
        "d2 = {\"batch\":\"2019\",\"branch\":\"CSE\",\"grade\":\"8.25\"}\n",
        "\n",
        "print(f\"college of d1 ==> {d1['clg']}\")\n",
        "print(f\"college of d1 ==> {d2['grade']}\")\n",
        "for key,value in d2.items():\n",
        "  print(f\"({key},{value}) pair\", end=\"  \")\n",
        "\n",
        "print()\n",
        "print(\"----------------------------------------------------------------------------------------------------------\")\n",
        "d2[\"grade\"] = 8.31\n",
        "print(f\"college of d1     ==> {d2['grade']}\")  # after changing the value, i.e, mutable\n",
        "\n",
        "d2.pop(\"batch\") # particular key-value pair\n",
        "d1.popitem()    # pops any one key-value pair(since unordered)\n",
        "d1[\"age\"] = 20\n",
        "print(f\"d1 after changes  ==> {d1}\") \n",
        "print(f\"d2 after changes  ==> {d2}\")\n",
        "d1.update(d2)  # combining d1, d2\n",
        "print(f\"d1 after updating ==> {d1}\")\n",
        "# for more methods, operations refer any tutorials, documentations\n",
        "\n",
        "print(\"----------------------------------------------------------------------------------------------------------\")\n",
        "import sys\n",
        "\n",
        "d1 = {'name': 'DJ', 'age': 20, 'branch': 'CSE', 'grade': 8.31, 'sub': ['ML','CC','ITC']}\n",
        "d  = {'hi':'hello'}\n",
        "d2 = {} \n",
        "print(f\"size of empty  dict is {sys.getsizeof(d2)} bytes\")                 # size of empty dictionary \n",
        "print(f\"size of   d    dict is {sys.getsizeof(d)} bytes\")                  # size of 1 pair dict\n",
        "print(f\"size of   d1   dict is {sys.getsizeof(d1)} bytes\")          \n",
        "print(f\"size of ele of d1   is {sys.getsizeof(d1['sub'])} bytes\")          # is that of sub key"
      ],
      "metadata": {
        "id": "494crQjQDYd6",
        "colab": {
          "base_uri": "https://localhost:8080/"
        },
        "outputId": "82e48255-34c7-48f5-845a-960554aa8d06"
      },
      "execution_count": 301,
      "outputs": [
        {
          "output_type": "stream",
          "name": "stdout",
          "text": [
            "college of d1 ==> IIITM\n",
            "college of d1 ==> 8.25\n",
            "(batch,2019) pair  (branch,CSE) pair  (grade,8.25) pair  \n",
            "----------------------------------------------------------------------------------------------------------\n",
            "college of d1     ==> 8.31\n",
            "d1 after changes  ==> {'name': 'DJ', 'age': 20}\n",
            "d2 after changes  ==> {'branch': 'CSE', 'grade': 8.31}\n",
            "d1 after updating ==> {'name': 'DJ', 'age': 20, 'branch': 'CSE', 'grade': 8.31}\n",
            "----------------------------------------------------------------------------------------------------------\n",
            "size of empty  dict is 248 bytes\n",
            "size of   d    dict is 248 bytes\n",
            "size of   d1   dict is 248 bytes\n",
            "size of ele of d1   is 96 bytes\n"
          ]
        }
      ]
    },
    {
      "cell_type": "code",
      "source": [
        "# Tuple\n",
        "\n",
        "# ordered, immutable(unchangeable), allows duplicate elements\n",
        "\n",
        "mytuple = (\"TOP\",10,\"located\",\"in\",\"south India\")\n",
        "m1 = (\"TOP\",\"hey\",\"hey\")\n",
        "print(mytuple[1])\n",
        "for i in mytuple:\n",
        "  print(i, end=\" \")\n",
        "print()\n",
        "if \"TOP\" in mytuple:\n",
        "  print(\"Given String exists in tuple\")\n",
        "a,b,c = m1\n",
        "print(f\"values from m1 of a      ==>{a}, b ==>{b}, c==>{c}\")  \n",
        "\n",
        "a, *b, c = mytuple\n",
        "print(f\"values from mytuple of a ==>{a}, b ==>{b}, c==>{c}\")  \n",
        "print(\"----------------------------------------------------------------------------------------------------------\")\n",
        "try:\n",
        "  m1[1] =\"hello\"\n",
        "except Exception as e:\n",
        "  print(e)\n",
        "# tuple is immutable\n",
        "\n",
        "m2 =mytuple[2:5]  # similar to list\n",
        "print(f\"After Slicing, m2 ==>{m2}\") \n",
        "\n",
        "print(\"----------------------------------------------------------------------------------------------------------\")\n",
        "import sys\n",
        "\n",
        "mt = (\"hi\",[\"every\",\"all\"],4)\n",
        "print(f\"size of empty tuple is {sys.getsizeof(())} bytes\") # size of empty tuple \n",
        "print(f\"size of 2 ele tuple is {sys.getsizeof(('hi','hi'))} bytes\")\n",
        "print(f\"size of  mytuple    is {sys.getsizeof(mytuple)} bytes\")\n",
        "print(f\"size of    mt       is {sys.getsizeof(mt)} bytes\")\n",
        "\n",
        "\n"
      ],
      "metadata": {
        "id": "YKPRJu26DYd7",
        "colab": {
          "base_uri": "https://localhost:8080/"
        },
        "outputId": "75fdc5f5-43df-4264-f8a9-a0c0f08067b0"
      },
      "execution_count": 302,
      "outputs": [
        {
          "output_type": "stream",
          "name": "stdout",
          "text": [
            "10\n",
            "TOP 10 located in south India \n",
            "Given String exists in tuple\n",
            "values from m1 of a      ==>TOP, b ==>hey, c==>hey\n",
            "values from mytuple of a ==>TOP, b ==>[10, 'located', 'in'], c==>south India\n",
            "----------------------------------------------------------------------------------------------------------\n",
            "'tuple' object does not support item assignment\n",
            "After Slicing, m2 ==>('located', 'in', 'south India')\n",
            "----------------------------------------------------------------------------------------------------------\n",
            "size of empty tuple is 56 bytes\n",
            "size of 2 ele tuple is 72 bytes\n",
            "size of  mytuple    is 96 bytes\n",
            "size of    mt       is 80 bytes\n"
          ]
        }
      ]
    },
    {
      "cell_type": "markdown",
      "source": [
        "# Python Libraries\n",
        "1. Pandas\n",
        "2. Numpy\n",
        "3. Matplotlib\n",
        "4. Keras\n",
        "5. TensorFlow"
      ],
      "metadata": {
        "id": "Qxca3LjwDb36"
      }
    },
    {
      "cell_type": "code",
      "source": [
        "# PANDAS\n",
        "\n",
        "# Create a column with values [1,2,3,4,45] and with indices ['a','b','c','d','big']\n",
        "import pandas as pd\n",
        "val = [1,2,3,4,45]\n",
        "ans = pd.Series(val, index=['a','b','c','d','big'])\n",
        "print(\"Question 1\\n\",ans)\n",
        "print()\n",
        "# create a series with some data of the given dictionary\n",
        "dic = {'Mon':'work', 'Tues':'semi-work','wednes':'part-time','Thurs':'relax','Fri':'Party'} \n",
        "df = pd.Series(dic,index=[\"Mon\",'Thus','Thurs','Fri'])\n",
        "print(\"Question 2\")\n",
        "df"
      ],
      "metadata": {
        "colab": {
          "base_uri": "https://localhost:8080/"
        },
        "id": "X7s3kVI72j45",
        "outputId": "b546e349-c83a-45fa-ea5f-af5cfeada2a1"
      },
      "execution_count": 303,
      "outputs": [
        {
          "output_type": "stream",
          "name": "stdout",
          "text": [
            "Question 1\n",
            " a       1\n",
            "b       2\n",
            "c       3\n",
            "d       4\n",
            "big    45\n",
            "dtype: int64\n",
            "\n",
            "Question 2\n"
          ]
        },
        {
          "output_type": "execute_result",
          "data": {
            "text/plain": [
              "Mon       work\n",
              "Thus       NaN\n",
              "Thurs    relax\n",
              "Fri      Party\n",
              "dtype: object"
            ]
          },
          "metadata": {},
          "execution_count": 303
        }
      ]
    },
    {
      "cell_type": "code",
      "source": [
        "# PANDAS\n",
        "\n",
        "import pandas as pd\n",
        "\n",
        "dataset = {\n",
        "    'name'  : ['DJ', 'PK', 'Kp', 'A', 'B', 'C'],\n",
        "    'batch' : [2019, 2018, 2019, 2017, 2021, 2018],\n",
        "    'branch': ['BCS','IMT', 'IMG', 'IMT','BCS', 'IMG'],\n",
        "    'sem'   : [7, 9, 7,11, np.nan, 9],\n",
        "    'CGPA'  : [ 8.25, 7.9, 7.5, 6.9, 9, 7] \n",
        "}\n",
        "df = pd.DataFrame(dataset)\n",
        "df"
      ],
      "metadata": {
        "id": "WLSsBJI5Daaw",
        "colab": {
          "base_uri": "https://localhost:8080/",
          "height": 238
        },
        "outputId": "83b3220a-a8e3-4f8d-b3f3-5781f13027b5"
      },
      "execution_count": 304,
      "outputs": [
        {
          "output_type": "execute_result",
          "data": {
            "text/html": [
              "\n",
              "  <div id=\"df-6d85790f-0953-4170-a49a-3e971bba60cc\">\n",
              "    <div class=\"colab-df-container\">\n",
              "      <div>\n",
              "<style scoped>\n",
              "    .dataframe tbody tr th:only-of-type {\n",
              "        vertical-align: middle;\n",
              "    }\n",
              "\n",
              "    .dataframe tbody tr th {\n",
              "        vertical-align: top;\n",
              "    }\n",
              "\n",
              "    .dataframe thead th {\n",
              "        text-align: right;\n",
              "    }\n",
              "</style>\n",
              "<table border=\"1\" class=\"dataframe\">\n",
              "  <thead>\n",
              "    <tr style=\"text-align: right;\">\n",
              "      <th></th>\n",
              "      <th>name</th>\n",
              "      <th>batch</th>\n",
              "      <th>branch</th>\n",
              "      <th>sem</th>\n",
              "      <th>CGPA</th>\n",
              "    </tr>\n",
              "  </thead>\n",
              "  <tbody>\n",
              "    <tr>\n",
              "      <th>0</th>\n",
              "      <td>DJ</td>\n",
              "      <td>2019</td>\n",
              "      <td>BCS</td>\n",
              "      <td>7.0</td>\n",
              "      <td>8.25</td>\n",
              "    </tr>\n",
              "    <tr>\n",
              "      <th>1</th>\n",
              "      <td>PK</td>\n",
              "      <td>2018</td>\n",
              "      <td>IMT</td>\n",
              "      <td>9.0</td>\n",
              "      <td>7.90</td>\n",
              "    </tr>\n",
              "    <tr>\n",
              "      <th>2</th>\n",
              "      <td>Kp</td>\n",
              "      <td>2019</td>\n",
              "      <td>IMG</td>\n",
              "      <td>7.0</td>\n",
              "      <td>7.50</td>\n",
              "    </tr>\n",
              "    <tr>\n",
              "      <th>3</th>\n",
              "      <td>A</td>\n",
              "      <td>2017</td>\n",
              "      <td>IMT</td>\n",
              "      <td>11.0</td>\n",
              "      <td>6.90</td>\n",
              "    </tr>\n",
              "    <tr>\n",
              "      <th>4</th>\n",
              "      <td>B</td>\n",
              "      <td>2021</td>\n",
              "      <td>BCS</td>\n",
              "      <td>NaN</td>\n",
              "      <td>9.00</td>\n",
              "    </tr>\n",
              "    <tr>\n",
              "      <th>5</th>\n",
              "      <td>C</td>\n",
              "      <td>2018</td>\n",
              "      <td>IMG</td>\n",
              "      <td>9.0</td>\n",
              "      <td>7.00</td>\n",
              "    </tr>\n",
              "  </tbody>\n",
              "</table>\n",
              "</div>\n",
              "      <button class=\"colab-df-convert\" onclick=\"convertToInteractive('df-6d85790f-0953-4170-a49a-3e971bba60cc')\"\n",
              "              title=\"Convert this dataframe to an interactive table.\"\n",
              "              style=\"display:none;\">\n",
              "        \n",
              "  <svg xmlns=\"http://www.w3.org/2000/svg\" height=\"24px\"viewBox=\"0 0 24 24\"\n",
              "       width=\"24px\">\n",
              "    <path d=\"M0 0h24v24H0V0z\" fill=\"none\"/>\n",
              "    <path d=\"M18.56 5.44l.94 2.06.94-2.06 2.06-.94-2.06-.94-.94-2.06-.94 2.06-2.06.94zm-11 1L8.5 8.5l.94-2.06 2.06-.94-2.06-.94L8.5 2.5l-.94 2.06-2.06.94zm10 10l.94 2.06.94-2.06 2.06-.94-2.06-.94-.94-2.06-.94 2.06-2.06.94z\"/><path d=\"M17.41 7.96l-1.37-1.37c-.4-.4-.92-.59-1.43-.59-.52 0-1.04.2-1.43.59L10.3 9.45l-7.72 7.72c-.78.78-.78 2.05 0 2.83L4 21.41c.39.39.9.59 1.41.59.51 0 1.02-.2 1.41-.59l7.78-7.78 2.81-2.81c.8-.78.8-2.07 0-2.86zM5.41 20L4 18.59l7.72-7.72 1.47 1.35L5.41 20z\"/>\n",
              "  </svg>\n",
              "      </button>\n",
              "      \n",
              "  <style>\n",
              "    .colab-df-container {\n",
              "      display:flex;\n",
              "      flex-wrap:wrap;\n",
              "      gap: 12px;\n",
              "    }\n",
              "\n",
              "    .colab-df-convert {\n",
              "      background-color: #E8F0FE;\n",
              "      border: none;\n",
              "      border-radius: 50%;\n",
              "      cursor: pointer;\n",
              "      display: none;\n",
              "      fill: #1967D2;\n",
              "      height: 32px;\n",
              "      padding: 0 0 0 0;\n",
              "      width: 32px;\n",
              "    }\n",
              "\n",
              "    .colab-df-convert:hover {\n",
              "      background-color: #E2EBFA;\n",
              "      box-shadow: 0px 1px 2px rgba(60, 64, 67, 0.3), 0px 1px 3px 1px rgba(60, 64, 67, 0.15);\n",
              "      fill: #174EA6;\n",
              "    }\n",
              "\n",
              "    [theme=dark] .colab-df-convert {\n",
              "      background-color: #3B4455;\n",
              "      fill: #D2E3FC;\n",
              "    }\n",
              "\n",
              "    [theme=dark] .colab-df-convert:hover {\n",
              "      background-color: #434B5C;\n",
              "      box-shadow: 0px 1px 3px 1px rgba(0, 0, 0, 0.15);\n",
              "      filter: drop-shadow(0px 1px 2px rgba(0, 0, 0, 0.3));\n",
              "      fill: #FFFFFF;\n",
              "    }\n",
              "  </style>\n",
              "\n",
              "      <script>\n",
              "        const buttonEl =\n",
              "          document.querySelector('#df-6d85790f-0953-4170-a49a-3e971bba60cc button.colab-df-convert');\n",
              "        buttonEl.style.display =\n",
              "          google.colab.kernel.accessAllowed ? 'block' : 'none';\n",
              "\n",
              "        async function convertToInteractive(key) {\n",
              "          const element = document.querySelector('#df-6d85790f-0953-4170-a49a-3e971bba60cc');\n",
              "          const dataTable =\n",
              "            await google.colab.kernel.invokeFunction('convertToInteractive',\n",
              "                                                     [key], {});\n",
              "          if (!dataTable) return;\n",
              "\n",
              "          const docLinkHtml = 'Like what you see? Visit the ' +\n",
              "            '<a target=\"_blank\" href=https://colab.research.google.com/notebooks/data_table.ipynb>data table notebook</a>'\n",
              "            + ' to learn more about interactive tables.';\n",
              "          element.innerHTML = '';\n",
              "          dataTable['output_type'] = 'display_data';\n",
              "          await google.colab.output.renderOutput(dataTable, element);\n",
              "          const docLink = document.createElement('div');\n",
              "          docLink.innerHTML = docLinkHtml;\n",
              "          element.appendChild(docLink);\n",
              "        }\n",
              "      </script>\n",
              "    </div>\n",
              "  </div>\n",
              "  "
            ],
            "text/plain": [
              "  name  batch branch   sem  CGPA\n",
              "0   DJ   2019    BCS   7.0  8.25\n",
              "1   PK   2018    IMT   9.0  7.90\n",
              "2   Kp   2019    IMG   7.0  7.50\n",
              "3    A   2017    IMT  11.0  6.90\n",
              "4    B   2021    BCS   NaN  9.00\n",
              "5    C   2018    IMG   9.0  7.00"
            ]
          },
          "metadata": {},
          "execution_count": 304
        }
      ]
    },
    {
      "cell_type": "code",
      "source": [
        "# Q1 given above dataframe, find the no. of people in each branch.\n",
        "# Q2 Rename the column 'CGPA' to 'GPA'. Find the avg GPA of all the students in above dataframe.\n",
        "# Q3 Replace all the NAN values with 0\n",
        "print(\"Question 1\")\n",
        "print(df['branch'].value_counts())\n",
        "print()\n",
        "print(\"Question 2\")\n",
        "df.rename(columns={'CGPA':'GPA'}, inplace=True)\n",
        "print(\"Average GPA of all students is: \", df['GPA'].mean())\n",
        "print()\n",
        "df.fillna(0,inplace=True)\n",
        "print(\"Question 3\")\n",
        "df"
      ],
      "metadata": {
        "colab": {
          "base_uri": "https://localhost:8080/",
          "height": 411
        },
        "id": "lMuSHBl0yqJT",
        "outputId": "79b047dd-ffcb-495d-e5d1-da07a6d4aaae"
      },
      "execution_count": 305,
      "outputs": [
        {
          "output_type": "stream",
          "name": "stdout",
          "text": [
            "Question 1\n",
            "BCS    2\n",
            "IMT    2\n",
            "IMG    2\n",
            "Name: branch, dtype: int64\n",
            "\n",
            "Question 2\n",
            "Average GPA of all students is:  7.758333333333333\n",
            "\n",
            "Question 3\n"
          ]
        },
        {
          "output_type": "execute_result",
          "data": {
            "text/html": [
              "\n",
              "  <div id=\"df-675a1224-f338-4358-8d17-8143ca0fd9b9\">\n",
              "    <div class=\"colab-df-container\">\n",
              "      <div>\n",
              "<style scoped>\n",
              "    .dataframe tbody tr th:only-of-type {\n",
              "        vertical-align: middle;\n",
              "    }\n",
              "\n",
              "    .dataframe tbody tr th {\n",
              "        vertical-align: top;\n",
              "    }\n",
              "\n",
              "    .dataframe thead th {\n",
              "        text-align: right;\n",
              "    }\n",
              "</style>\n",
              "<table border=\"1\" class=\"dataframe\">\n",
              "  <thead>\n",
              "    <tr style=\"text-align: right;\">\n",
              "      <th></th>\n",
              "      <th>name</th>\n",
              "      <th>batch</th>\n",
              "      <th>branch</th>\n",
              "      <th>sem</th>\n",
              "      <th>GPA</th>\n",
              "    </tr>\n",
              "  </thead>\n",
              "  <tbody>\n",
              "    <tr>\n",
              "      <th>0</th>\n",
              "      <td>DJ</td>\n",
              "      <td>2019</td>\n",
              "      <td>BCS</td>\n",
              "      <td>7.0</td>\n",
              "      <td>8.25</td>\n",
              "    </tr>\n",
              "    <tr>\n",
              "      <th>1</th>\n",
              "      <td>PK</td>\n",
              "      <td>2018</td>\n",
              "      <td>IMT</td>\n",
              "      <td>9.0</td>\n",
              "      <td>7.90</td>\n",
              "    </tr>\n",
              "    <tr>\n",
              "      <th>2</th>\n",
              "      <td>Kp</td>\n",
              "      <td>2019</td>\n",
              "      <td>IMG</td>\n",
              "      <td>7.0</td>\n",
              "      <td>7.50</td>\n",
              "    </tr>\n",
              "    <tr>\n",
              "      <th>3</th>\n",
              "      <td>A</td>\n",
              "      <td>2017</td>\n",
              "      <td>IMT</td>\n",
              "      <td>11.0</td>\n",
              "      <td>6.90</td>\n",
              "    </tr>\n",
              "    <tr>\n",
              "      <th>4</th>\n",
              "      <td>B</td>\n",
              "      <td>2021</td>\n",
              "      <td>BCS</td>\n",
              "      <td>0.0</td>\n",
              "      <td>9.00</td>\n",
              "    </tr>\n",
              "    <tr>\n",
              "      <th>5</th>\n",
              "      <td>C</td>\n",
              "      <td>2018</td>\n",
              "      <td>IMG</td>\n",
              "      <td>9.0</td>\n",
              "      <td>7.00</td>\n",
              "    </tr>\n",
              "  </tbody>\n",
              "</table>\n",
              "</div>\n",
              "      <button class=\"colab-df-convert\" onclick=\"convertToInteractive('df-675a1224-f338-4358-8d17-8143ca0fd9b9')\"\n",
              "              title=\"Convert this dataframe to an interactive table.\"\n",
              "              style=\"display:none;\">\n",
              "        \n",
              "  <svg xmlns=\"http://www.w3.org/2000/svg\" height=\"24px\"viewBox=\"0 0 24 24\"\n",
              "       width=\"24px\">\n",
              "    <path d=\"M0 0h24v24H0V0z\" fill=\"none\"/>\n",
              "    <path d=\"M18.56 5.44l.94 2.06.94-2.06 2.06-.94-2.06-.94-.94-2.06-.94 2.06-2.06.94zm-11 1L8.5 8.5l.94-2.06 2.06-.94-2.06-.94L8.5 2.5l-.94 2.06-2.06.94zm10 10l.94 2.06.94-2.06 2.06-.94-2.06-.94-.94-2.06-.94 2.06-2.06.94z\"/><path d=\"M17.41 7.96l-1.37-1.37c-.4-.4-.92-.59-1.43-.59-.52 0-1.04.2-1.43.59L10.3 9.45l-7.72 7.72c-.78.78-.78 2.05 0 2.83L4 21.41c.39.39.9.59 1.41.59.51 0 1.02-.2 1.41-.59l7.78-7.78 2.81-2.81c.8-.78.8-2.07 0-2.86zM5.41 20L4 18.59l7.72-7.72 1.47 1.35L5.41 20z\"/>\n",
              "  </svg>\n",
              "      </button>\n",
              "      \n",
              "  <style>\n",
              "    .colab-df-container {\n",
              "      display:flex;\n",
              "      flex-wrap:wrap;\n",
              "      gap: 12px;\n",
              "    }\n",
              "\n",
              "    .colab-df-convert {\n",
              "      background-color: #E8F0FE;\n",
              "      border: none;\n",
              "      border-radius: 50%;\n",
              "      cursor: pointer;\n",
              "      display: none;\n",
              "      fill: #1967D2;\n",
              "      height: 32px;\n",
              "      padding: 0 0 0 0;\n",
              "      width: 32px;\n",
              "    }\n",
              "\n",
              "    .colab-df-convert:hover {\n",
              "      background-color: #E2EBFA;\n",
              "      box-shadow: 0px 1px 2px rgba(60, 64, 67, 0.3), 0px 1px 3px 1px rgba(60, 64, 67, 0.15);\n",
              "      fill: #174EA6;\n",
              "    }\n",
              "\n",
              "    [theme=dark] .colab-df-convert {\n",
              "      background-color: #3B4455;\n",
              "      fill: #D2E3FC;\n",
              "    }\n",
              "\n",
              "    [theme=dark] .colab-df-convert:hover {\n",
              "      background-color: #434B5C;\n",
              "      box-shadow: 0px 1px 3px 1px rgba(0, 0, 0, 0.15);\n",
              "      filter: drop-shadow(0px 1px 2px rgba(0, 0, 0, 0.3));\n",
              "      fill: #FFFFFF;\n",
              "    }\n",
              "  </style>\n",
              "\n",
              "      <script>\n",
              "        const buttonEl =\n",
              "          document.querySelector('#df-675a1224-f338-4358-8d17-8143ca0fd9b9 button.colab-df-convert');\n",
              "        buttonEl.style.display =\n",
              "          google.colab.kernel.accessAllowed ? 'block' : 'none';\n",
              "\n",
              "        async function convertToInteractive(key) {\n",
              "          const element = document.querySelector('#df-675a1224-f338-4358-8d17-8143ca0fd9b9');\n",
              "          const dataTable =\n",
              "            await google.colab.kernel.invokeFunction('convertToInteractive',\n",
              "                                                     [key], {});\n",
              "          if (!dataTable) return;\n",
              "\n",
              "          const docLinkHtml = 'Like what you see? Visit the ' +\n",
              "            '<a target=\"_blank\" href=https://colab.research.google.com/notebooks/data_table.ipynb>data table notebook</a>'\n",
              "            + ' to learn more about interactive tables.';\n",
              "          element.innerHTML = '';\n",
              "          dataTable['output_type'] = 'display_data';\n",
              "          await google.colab.output.renderOutput(dataTable, element);\n",
              "          const docLink = document.createElement('div');\n",
              "          docLink.innerHTML = docLinkHtml;\n",
              "          element.appendChild(docLink);\n",
              "        }\n",
              "      </script>\n",
              "    </div>\n",
              "  </div>\n",
              "  "
            ],
            "text/plain": [
              "  name  batch branch   sem   GPA\n",
              "0   DJ   2019    BCS   7.0  8.25\n",
              "1   PK   2018    IMT   9.0  7.90\n",
              "2   Kp   2019    IMG   7.0  7.50\n",
              "3    A   2017    IMT  11.0  6.90\n",
              "4    B   2021    BCS   0.0  9.00\n",
              "5    C   2018    IMG   9.0  7.00"
            ]
          },
          "metadata": {},
          "execution_count": 305
        }
      ]
    },
    {
      "cell_type": "code",
      "source": [
        "# Numpy\n",
        "\n",
        "# Create a numpy array with size (3,3,2)(3-dimensional) filled with random values.\n",
        "# Convert all the 3 dimensions into one dimension array with each ele as sum of all previous dimension values. \n",
        "import numpy as np \n",
        "\n",
        "n1 = np.random.randn(3,2,2)\n",
        "print(n1)  \n",
        "print()\n",
        "n2 = [i.sum() for i in n1]\n",
        "print(\"The Answer is: \")\n",
        "n2"
      ],
      "metadata": {
        "colab": {
          "base_uri": "https://localhost:8080/"
        },
        "id": "j7O6aT7HFTH_",
        "outputId": "80295e57-c6ed-4daf-ce13-a62e1c737707"
      },
      "execution_count": 306,
      "outputs": [
        {
          "output_type": "stream",
          "name": "stdout",
          "text": [
            "[[[ 0.53258213 -1.66152344]\n",
            "  [ 0.41289139  0.37007531]]\n",
            "\n",
            " [[-0.74773595  0.63190905]\n",
            "  [ 1.23370078  0.21143301]]\n",
            "\n",
            " [[ 0.42622168  1.22725115]\n",
            "  [ 1.18211032  0.61685595]]]\n",
            "\n",
            "The Answer is: \n"
          ]
        },
        {
          "output_type": "execute_result",
          "data": {
            "text/plain": [
              "[-0.34597461121670353, 1.3293068901659164, 3.452439102879627]"
            ]
          },
          "metadata": {},
          "execution_count": 306
        }
      ]
    },
    {
      "cell_type": "code",
      "source": [
        "# NUMPY\n",
        "# reshape the given 3-D array into 2-D with no. of rows is 2 or\n",
        "# print the values after concatenating the strings at a particular cell on all the 3 dimensions.\n",
        "n = np.array([[['M','C'], ['I','C']], [['L','C'],['T','S']]])  # 3-dimensional array\n",
        "np2 = np.full((n.shape[0],n.shape[1]),'')\n",
        "print(n)\n",
        "a = n.shape[0]\n",
        "print(f\"shape of np array is : {a}\",end='\\n\\n')\n",
        "np1 = n.reshape((2,-1))\n",
        "print(np1,end='\\n\\n')\n",
        "print(f\"shape of given array after reshaping is: {np1.shape}\")\n",
        "for i in range(np1.shape[1]):\n",
        "  print(np1[0][i]+np1[1][i])\n"
      ],
      "metadata": {
        "colab": {
          "base_uri": "https://localhost:8080/"
        },
        "id": "mb1QBBnDC82E",
        "outputId": "03290be6-02a5-462d-e5b0-edfa17a72d5d"
      },
      "execution_count": 307,
      "outputs": [
        {
          "output_type": "stream",
          "name": "stdout",
          "text": [
            "[[['M' 'C']\n",
            "  ['I' 'C']]\n",
            "\n",
            " [['L' 'C']\n",
            "  ['T' 'S']]]\n",
            "shape of np array is : 2\n",
            "\n",
            "[['M' 'C' 'I' 'C']\n",
            " ['L' 'C' 'T' 'S']]\n",
            "\n",
            "shape of given array after reshaping is: (2, 4)\n",
            "ML\n",
            "CC\n",
            "IT\n",
            "CS\n"
          ]
        }
      ]
    },
    {
      "cell_type": "code",
      "source": [
        "# Matplotlib\n",
        "\n",
        "# Question 1\n",
        "# Plot the given X,Y points with dotted line and star markers of size 10, of green color\n",
        "# label x as days, y as ,market_value with title Analysis of a Company\n",
        "import matplotlib.pyplot as plt\n",
        "import numpy as np\n",
        "\n",
        "xpoints = np.array([1, 2, 5,10,15])\n",
        "ypoints = np.array([0, 2.5,7,100,50])\n",
        "\n",
        "plt.plot(xpoints, ypoints, '*:g', ms=10)\n",
        "\n",
        "plt.title(\"Analysis of a Company \", loc = 'center')\n",
        "plt.xlabel(\"days\")\n",
        "plt.ylabel(\"market_value\")\n",
        "\n",
        "plt.show()\n"
      ],
      "metadata": {
        "colab": {
          "base_uri": "https://localhost:8080/",
          "height": 295
        },
        "id": "uYoc4WfEFUTf",
        "outputId": "da3ea13c-8fd7-4885-c30d-19a95e31a395"
      },
      "execution_count": 308,
      "outputs": [
        {
          "output_type": "display_data",
          "data": {
            "image/png": "[encoded data removed]",
            "text/plain": [
              "<Figure size 432x288 with 1 Axes>"
            ]
          },
          "metadata": {
            "needs_background": "light"
          }
        }
      ]
    },
    {
      "cell_type": "code",
      "source": [
        "# plot the 3 different datasets of same labels in single plot\n",
        "import matplotlib.pyplot as plt\n",
        "import numpy as np\n",
        "import random\n",
        "\n",
        "# first one \n",
        "x = np.array([5,56,4,7,33,8,12,29,46,17,4,29,2])\n",
        "y = np.array([15,16,22,39,92,83,74,56,11,10,1,88,20])\n",
        "plt.scatter(x, y)\n",
        "\n",
        "# second one\n",
        "x = random.sample(range(5, 50),15)\n",
        "y = np.random.randn(15)\n",
        "plt.scatter(x, y)\n",
        "\n",
        "# third one\n",
        "x = np.array([10,20,30,40,50])\n",
        "y = np.array([20,25,45,40,65])\n",
        "plt.scatter(x,y)\n",
        "\n",
        "plt.show()"
      ],
      "metadata": {
        "colab": {
          "base_uri": "https://localhost:8080/",
          "height": 265
        },
        "id": "hQx6NnzQPO-v",
        "outputId": "782fc2fb-05c2-4e97-9fb1-1e5524fce4ec"
      },
      "execution_count": 309,
      "outputs": [
        {
          "output_type": "display_data",
          "data": {
            "image/png": "[encoded data removed]",
            "text/plain": [
              "<Figure size 432x288 with 1 Axes>"
            ]
          },
          "metadata": {
            "needs_background": "light"
          }
        }
      ]
    },
    {
      "cell_type": "code",
      "source": [
        "# TensorFlow\n",
        "\n",
        "#Multiply the given numpy array with your roll number, convert them into tensors and calculate the sum of tensors using tf operator.  \n",
        "import tensorflow as tf\n",
        "import numpy as np\n",
        "\n",
        "np1     = np.ones([2,2])\n",
        "tensor1 = tf.multiply(np1,16) # automatically converts them into tensors\n",
        "print(tensor1) \n",
        "print(f\"sum of above tensor is: {tf.reduce_sum(tensor1)}\")"
      ],
      "metadata": {
        "colab": {
          "base_uri": "https://localhost:8080/"
        },
        "id": "3fvrp0oHFXhq",
        "outputId": "8e6f5028-c82a-4950-a928-4627bc2f04cc"
      },
      "execution_count": 310,
      "outputs": [
        {
          "output_type": "stream",
          "name": "stdout",
          "text": [
            "tf.Tensor(\n",
            "[[16. 16.]\n",
            " [16. 16.]], shape=(2, 2), dtype=float64)\n",
            "sum of above tensor is: 64.0\n"
          ]
        }
      ]
    },
    {
      "cell_type": "code",
      "source": [
        "# TensorFlow\n",
        "\n",
        "# Multiply the given two uniform random distributed tensors(element-wise) and reshape the tensor into 1-D\n",
        "\n",
        "import tensorflow as tf\n",
        "import numpy as np\n",
        "\n",
        "x = tf.random.uniform([3,3])\n",
        "y = tf.random.uniform([3,3])\n",
        "t1 = tf.matmul(x,y)\n",
        "print(f\"t1 ===>\\n{t1} of shape ===> {t1.shape}\", end=\"\\n\\n\")\n",
        "print(\"After Reshaping given tensor,\")\n",
        "print(tf.reshape(t1,(1,-1)))\n"
      ],
      "metadata": {
        "colab": {
          "base_uri": "https://localhost:8080/"
        },
        "id": "u_4gtwEdZMBw",
        "outputId": "f6898bfa-488d-402c-e260-93fc00b34205"
      },
      "execution_count": 311,
      "outputs": [
        {
          "output_type": "stream",
          "name": "stdout",
          "text": [
            "t1 ===>\n",
            "[[0.3194503  1.2354506  0.65263045]\n",
            " [0.7552442  1.2910187  0.62959766]\n",
            " [0.08317956 0.19086511 0.057564  ]] of shape ===> (3, 3)\n",
            "\n",
            "After Reshaping given tensor,\n",
            "tf.Tensor(\n",
            "[[0.3194503  1.2354506  0.65263045 0.7552442  1.2910187  0.62959766\n",
            "  0.08317956 0.19086511 0.057564  ]], shape=(1, 9), dtype=float32)\n"
          ]
        }
      ]
    },
    {
      "cell_type": "code",
      "source": [
        "# KERAS\n",
        "\n",
        "# create a Neural Network with 3 sequential layers, two dense layers with a relu activation in between and one flatten layer and print the model summary.\n",
        "import tensorflow as tf\n",
        "import numpy as np\n",
        "from tensorflow import keras\n",
        "#from tensorflow.keras.layer import Dense, Flatten\n",
        "model = tf.keras.Sequential()\n",
        "model.add(keras.layers.Dense(units = 512, input_shape=[64]))\n",
        "model.add(keras.layers.Activation('relu'))\n",
        "model.add(keras.layers.Dense(units = 256))\n",
        "model.add(keras.layers.Flatten())\n",
        "model.summary()\n"
      ],
      "metadata": {
        "colab": {
          "base_uri": "https://localhost:8080/"
        },
        "id": "e31eYzULVSYE",
        "outputId": "11beaa4a-91be-40ce-8ea9-f58914519458"
      },
      "execution_count": 312,
      "outputs": [
        {
          "output_type": "stream",
          "name": "stdout",
          "text": [
            "Model: \"sequential_9\"\n",
            "_________________________________________________________________\n",
            " Layer (type)                Output Shape              Param #   \n",
            "=================================================================\n",
            " dense_12 (Dense)            (None, 512)               33280     \n",
            "                                                                 \n",
            " activation_1 (Activation)   (None, 512)               0         \n",
            "                                                                 \n",
            " dense_13 (Dense)            (None, 256)               131328    \n",
            "                                                                 \n",
            " flatten_4 (Flatten)         (None, 256)               0         \n",
            "                                                                 \n",
            "=================================================================\n",
            "Total params: 164,608\n",
            "Trainable params: 164,608\n",
            "Non-trainable params: 0\n",
            "_________________________________________________________________\n"
          ]
        }
      ]
    },
    {
      "cell_type": "code",
      "source": [
        "# KERAS\n",
        "\n",
        "# load fashion_mnist dataset from keras datasets and print a image from dataset\n",
        "\n",
        "import tensorflow as tf\n",
        "import numpy as np\n",
        "from  tensorflow import keras\n",
        "import matplotlib.pyplot as plt\n",
        "\n",
        "f_mnist = tf.keras.datasets.fashion_mnist\n",
        "(train_img, train_labels) , (test_images, test_labels) = f_mnist.load_data()"
      ],
      "metadata": {
        "id": "s9VauRvpXVGV"
      },
      "execution_count": 313,
      "outputs": []
    },
    {
      "cell_type": "code",
      "source": [
        "print(train_img.shape)"
      ],
      "metadata": {
        "colab": {
          "base_uri": "https://localhost:8080/"
        },
        "id": "8fw-W46odwsf",
        "outputId": "944b1217-42cb-4516-db09-e835343035c4"
      },
      "execution_count": 314,
      "outputs": [
        {
          "output_type": "stream",
          "name": "stdout",
          "text": [
            "(60000, 28, 28)\n"
          ]
        }
      ]
    },
    {
      "cell_type": "code",
      "source": [
        "plt.figure(figsize=(5,5))\n",
        "plt.imshow(train_img[1])"
      ],
      "metadata": {
        "colab": {
          "base_uri": "https://localhost:8080/",
          "height": 338
        },
        "id": "cQ7O5O5Td-T-",
        "outputId": "4639eb17-4a4d-4fd8-c1a6-20db81891afb"
      },
      "execution_count": 315,
      "outputs": [
        {
          "output_type": "execute_result",
          "data": {
            "text/plain": [
              "<matplotlib.image.AxesImage at 0x7f9fdf56c0d0>"
            ]
          },
          "metadata": {},
          "execution_count": 315
        },
        {
          "output_type": "display_data",
          "data": {
            "image/png": "[encoded data removed]",
            "text/plain": [
              "<Figure size 360x360 with 1 Axes>"
            ]
          },
          "metadata": {
            "needs_background": "light"
          }
        }
      ]
    },
    {
      "cell_type": "code",
      "source": [
        ""
      ],
      "metadata": {
        "id": "dD-RWTz9eOPE"
      },
      "execution_count": 315,
      "outputs": []
    }
  ]
}

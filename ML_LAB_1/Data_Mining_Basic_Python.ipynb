{
  "nbformat": 4,
  "nbformat_minor": 0,
  "metadata": {
    "colab": {
      "name": "ML_Lab_1.ipynb",
      "provenance": [],
      "collapsed_sections": []
    },
    "kernelspec": {
      "name": "python3",
      "display_name": "Python 3"
    },
    "language_info": {
      "name": "python"
    }
  },
  "cells": [
    {
      "cell_type": "markdown",
      "source": [
        "# ML LAB-1 \n",
        "by  \n",
        "***Dasari Jayanth***   \n",
        "Roll no. ***2019BCS-016***"
      ],
      "metadata": {
        "id": "qld87qAORfKN"
      }
    },
    {
      "cell_type": "markdown",
      "source": [
        "## Question-1\n",
        "\n",
        "Datatypes(int, float, str, bool, and list) and operations on Data types "
      ],
      "metadata": {
        "id": "eQxejx3OSMpP"
      }
    },
    {
      "cell_type": "markdown",
      "source": [
        "int datatype ====> integers (numbers).  \n",
        "\n",
        "can directly assign variables with integers it is considered as \"int\" data type, has no decimal point."
      ],
      "metadata": {
        "id": "T-Zp_jaleN_x"
      }
    },
    {
      "cell_type": "code",
      "source": [
        "a = 1\n",
        "print(a)\n",
        "\n",
        "# to check the datatype of the variable, can use type()\n",
        "print(type(a))\n",
        "\n",
        "# printing both value and type of varibale using single print line.\n",
        "print(f\"type of {a} is {type(a)}\")"
      ],
      "metadata": {
        "colab": {
          "base_uri": "https://localhost:8080/"
        },
        "id": "LVlpA5LpRZui",
        "outputId": "1b286a9f-a3f5-43e8-8b4e-494643d0b9fa"
      },
      "execution_count": 1,
      "outputs": [
        {
          "output_type": "stream",
          "name": "stdout",
          "text": [
            "1\n",
            "<class 'int'>\n",
            "type of 1 is <class 'int'>\n"
          ]
        }
      ]
    },
    {
      "cell_type": "markdown",
      "source": [
        "Operations on int"
      ],
      "metadata": {
        "id": "SuIZrzkmeZl6"
      }
    },
    {
      "cell_type": "code",
      "source": [
        "a = 16\n",
        "b = 10\n",
        "\n",
        "# Addition\n",
        "print(f\"  Addition     of int variables a: {a} and b: {b} is {a+b}\")\n",
        "\n",
        "# Multiplication\n",
        "c = a*b\n",
        "print(f\"Multiplication of int variables a: {a} and b: {b} is {c}\")\n",
        "\n",
        "# Powers\n",
        "print()\n",
        "print(f\"{a} Power {b} is {a**b}\")\n",
        "\n"
      ],
      "metadata": {
        "colab": {
          "base_uri": "https://localhost:8080/"
        },
        "id": "WGJDw1BpUbeM",
        "outputId": "0e1d7be7-5b48-49e4-d365-7830fff71f36"
      },
      "execution_count": 2,
      "outputs": [
        {
          "output_type": "stream",
          "name": "stdout",
          "text": [
            "  Addition     of int variables a: 16 and b: 10 is 26\n",
            "Multiplication of int variables a: 16 and b: 10 is 160\n",
            "\n",
            "16 Power 10 is 1099511627776\n"
          ]
        }
      ]
    },
    {
      "cell_type": "markdown",
      "source": [
        "float datatype ====> Floating Point numbers(All real numbers), has decimal point.  \n",
        "\n",
        "can directly assign variables with real numbers(with decimals), it is considered as \"float\" data type."
      ],
      "metadata": {
        "id": "O-nIf9bveFkM"
      }
    },
    {
      "cell_type": "code",
      "source": [
        "a= 1.\n",
        "print(f\"type of {a} is {type(a)}\")"
      ],
      "metadata": {
        "colab": {
          "base_uri": "https://localhost:8080/"
        },
        "id": "Q8TDkfSMSZKt",
        "outputId": "89da170d-4bf3-4c40-e569-67eb704f2412"
      },
      "execution_count": 3,
      "outputs": [
        {
          "output_type": "stream",
          "name": "stdout",
          "text": [
            "type of 1.0 is <class 'float'>\n"
          ]
        }
      ]
    },
    {
      "cell_type": "markdown",
      "source": [
        "Operations on float\n"
      ],
      "metadata": {
        "id": "S6Zo7Pp2eWD0"
      }
    },
    {
      "cell_type": "code",
      "source": [
        "a = 1.6\n",
        "b = -3.2\n",
        "\n",
        "# Addition\n",
        "print(f\"  Addition     of float variables a: {a} and b: {b} is {a+b}\")\n",
        "\n",
        "# Multiplication\n",
        "c = a*b\n",
        "print(f\"Multiplication of float variables a: {a} and b: {b} is {c}\")\n",
        "\n",
        "# Powers\n",
        "print()\n",
        "print(f\"{a} Power {b} is {a**b}\")"
      ],
      "metadata": {
        "colab": {
          "base_uri": "https://localhost:8080/"
        },
        "id": "OmZiyugVTq5g",
        "outputId": "c921c8e2-cdfd-43bf-bb3b-2e4c5439e56a"
      },
      "execution_count": 4,
      "outputs": [
        {
          "output_type": "stream",
          "name": "stdout",
          "text": [
            "  Addition     of float variables a: 1.6 and b: -3.2 is -1.6\n",
            "Multiplication of float variables a: 1.6 and b: -3.2 is -5.120000000000001\n",
            "\n",
            "1.6 Power -3.2 is 0.22223684118970702\n"
          ]
        }
      ]
    },
    {
      "cell_type": "markdown",
      "source": [
        "str datatype ===> strings, any value(s) that is assigned to the variable using single quotation(' ') or double quotations(\" \") (for single line strings).  \n",
        "For multi line strings, ise triple double quotes(\"\"\"  \"\"\") or triple single quotes('''   '''). "
      ],
      "metadata": {
        "id": "yuRymy7xe6qR"
      }
    },
    {
      "cell_type": "code",
      "source": [
        "# single line string\n",
        "a = \"Data Science\"\n",
        "print(a)\n",
        "print(f\"type of variable a is : {type(a)}\")\n",
        "\n",
        "print(\"-------------------------------------------------\")\n",
        "# Multi Line string\n",
        "b = \"\"\"Hello,\n",
        "welcome to the orientation session,\n",
        "shall end the class immediately.\"\"\"\n",
        "print(b)\n",
        "print(f\"Type of variable b is : {type(b)}\")"
      ],
      "metadata": {
        "colab": {
          "base_uri": "https://localhost:8080/"
        },
        "id": "Zh-G96x-f0ta",
        "outputId": "a757ae08-94e6-4fa4-9e08-85f125740d47"
      },
      "execution_count": 5,
      "outputs": [
        {
          "output_type": "stream",
          "name": "stdout",
          "text": [
            "Data Science\n",
            "type of variable a is : <class 'str'>\n",
            "-------------------------------------------------\n",
            "Hello,\n",
            "welcome to the orientation session,\n",
            "shall end the class immediately.\n",
            "Type of variable b is : <class 'str'>\n"
          ]
        }
      ]
    },
    {
      "cell_type": "markdown",
      "source": [
        "operations on str\n",
        "\n",
        "Elements of a String can be accessed via it's index(similar to that of array), they are immutable, can't be changed once assigned. "
      ],
      "metadata": {
        "id": "bsuipv8FgMGz"
      }
    },
    {
      "cell_type": "code",
      "source": [
        "a =\"Today's class is cancelled\"\n",
        "\n",
        "# slicing---------------------------------------------\n",
        "print(a[5:])\n",
        "print(a[:5])\n",
        "print(a[3:8])\n",
        "try:\n",
        "  a[5] = 't'\n",
        "except Exception as e:\n",
        "  print(e)\n",
        "print(\"-------------------------------------------------\")\n",
        "\n",
        "# concatenation---------------------------------------\n",
        "s1 = \"Hello\"\n",
        "s2 = \"Every one\"\n",
        "s = s1+\" \"+s2\n",
        "print(f\"string after concatenation: {s}\")\n",
        "print(\"-------------------------------------------------\")\n",
        "\n",
        "# format strings--------------------------------------\n",
        "str1 = \"Good evening {}.\"\n",
        "var = \"sir\"\n",
        "print(str1.format(var))\n",
        "var = 'mam'\n",
        "print(str1.format(var))\n",
        "print(\"-------------------------------------------------\")\n",
        "#String Methods----------------------------------------\n",
        "# string has many built-in functions like count, index,\n",
        "# isalpha, islower, split, strip and soon.\n",
        "str1 = \"I am a String\"\n",
        "print(f\"Occurence of alphabet 'a' is : {str1.count('a')}\")\n",
        "print(f\"Turning all characters to uppercase: {str1.upper()}\")"
      ],
      "metadata": {
        "colab": {
          "base_uri": "https://localhost:8080/"
        },
        "id": "g359tqofgLCe",
        "outputId": "b1b6de0f-b65a-4c58-b38f-739655f4f47a"
      },
      "execution_count": 6,
      "outputs": [
        {
          "output_type": "stream",
          "name": "stdout",
          "text": [
            "'s class is cancelled\n",
            "Today\n",
            "ay's \n",
            "'str' object does not support item assignment\n",
            "-------------------------------------------------\n",
            "string after concatenation: Hello Every one\n",
            "-------------------------------------------------\n",
            "Good evening sir.\n",
            "Good evening mam.\n",
            "-------------------------------------------------\n",
            "Occurence of alphabet 'a' is : 2\n",
            "Turning all characters to uppercase: I AM A STRING\n"
          ]
        }
      ]
    },
    {
      "cell_type": "markdown",
      "source": [
        "bool datatype ===> True/False Values are called boolean values.  \n",
        "To validate conditions we need to find whether the condition is 'true' or 'false'.\n",
        "By default, '0' is considered as False(None, empty also) and any other value is considered as True."
      ],
      "metadata": {
        "id": "a_LTradiT682"
      }
    },
    {
      "cell_type": "code",
      "source": [
        "a = True\n",
        "print(f\"Type of Variable a:{type(a)}\")\n",
        "b = False\n",
        "print(f\"Type of Variable b:{type(b)}\")"
      ],
      "metadata": {
        "id": "l0tUdiLnT6Pc",
        "colab": {
          "base_uri": "https://localhost:8080/"
        },
        "outputId": "c1da41d3-1692-4010-ff1e-be2cf0650dc9"
      },
      "execution_count": 7,
      "outputs": [
        {
          "output_type": "stream",
          "name": "stdout",
          "text": [
            "Type of Variable a:<class 'bool'>\n",
            "Type of Variable b:<class 'bool'>\n"
          ]
        }
      ]
    },
    {
      "cell_type": "markdown",
      "source": [
        "Operations on bool datatype"
      ],
      "metadata": {
        "id": "nGi9fxlvGVWu"
      }
    },
    {
      "cell_type": "code",
      "source": [
        "a = 16\n",
        "b = -3\n",
        "c = 0\n",
        "print(a==b)\n",
        "print(bool(b<c))\n",
        "print(bool(a))\n",
        "print(bool(a or b))\n",
        "print(bool(a and b))\n",
        "print(not a)"
      ],
      "metadata": {
        "id": "TEbeQeoBUDGd",
        "colab": {
          "base_uri": "https://localhost:8080/"
        },
        "outputId": "59f0e147-3cf0-40c3-c148-a9172fd98762"
      },
      "execution_count": 8,
      "outputs": [
        {
          "output_type": "stream",
          "name": "stdout",
          "text": [
            "False\n",
            "True\n",
            "True\n",
            "True\n",
            "True\n",
            "False\n"
          ]
        }
      ]
    },
    {
      "cell_type": "markdown",
      "source": [
        "list datatype ===> similar to that of arrays in c++/c language.  \n",
        "lists are defined in square brackets(\"[ ]\").  Elements can be of any type, even iterables like tuples, dict.  \n",
        "lists are ordered, changeable and allows duplicate values. The elements of the list can be accessed via index, lists are mostly used. (in every situation) "
      ],
      "metadata": {
        "id": "L3GtP8sHUDe9"
      }
    },
    {
      "cell_type": "code",
      "source": [
        "l  = list()  # empty list initialization\n",
        "l1 = list((\"A\",'B','C'))\n",
        "l2 = ['Hi',(\"him\", \"his\"), 8, {\"her\": \"alexa\"}, True, 8]\n",
        "print(l2,\"=====>\",type(l2))\n",
        "print(l2[1],\"======>\",type(l2[1]))\n"
      ],
      "metadata": {
        "id": "jFXdPTXyUJlU",
        "colab": {
          "base_uri": "https://localhost:8080/"
        },
        "outputId": "4e18c4f6-6886-4e36-a830-e4b2f99980f5"
      },
      "execution_count": 9,
      "outputs": [
        {
          "output_type": "stream",
          "name": "stdout",
          "text": [
            "['Hi', ('him', 'his'), 8, {'her': 'alexa'}, True, 8] =====> <class 'list'>\n",
            "('him', 'his') ======> <class 'tuple'>\n"
          ]
        }
      ]
    },
    {
      "cell_type": "markdown",
      "source": [
        "Operations on list datatype"
      ],
      "metadata": {
        "id": "loPirdDuV-LG"
      }
    },
    {
      "cell_type": "code",
      "source": [
        "# len of list ==>.no. of items in the list\n",
        "l = ['Hi',(\"him\", \"his\"), 8, {\"her\": \"alexa\"}, True, 8]\n",
        "print(f\"length of the list l is: {len(l)}\")\n",
        "\n",
        "# slicing\n",
        "print(f\"slicing the list l: {l[2:-1]}\")\n",
        "\n",
        "a = 9 in l # checking whether the value 9 is in list l\n",
        "print(a)\n",
        "\n",
        "# modifying list, appending list, remove items from list\n",
        "l[2] = 19\n",
        "l.append(\"machine\")\n",
        "print(f\"changed list l: {l}\")\n",
        "l.insert(1,\"Learning\")\n",
        "l.remove(True)  # give the value to delete from list\n",
        "print(f\"removing and inserting in l: {l}\")\n",
        "l.pop() # give the index to delete value at that index, if none given removes last item\n",
        "print(f\"l after popping: {l}\")\n",
        "l1= [\"namaste\", \"manchidhi\"]\n",
        "l.extend(l1) # can be any iterable not only list but also set, tuple, dict\n",
        "print(f\"after extend: {l}\")\n",
        "del l # deleting the list\n",
        "try:\n",
        "  print(l)\n",
        "except Exception as e:\n",
        "  print(f\"After deleting the list: {e}\")  \n"
      ],
      "metadata": {
        "id": "K3xAN9keUJh1",
        "colab": {
          "base_uri": "https://localhost:8080/"
        },
        "outputId": "eba0dce6-c525-403a-bc40-57610ca57a94"
      },
      "execution_count": 10,
      "outputs": [
        {
          "output_type": "stream",
          "name": "stdout",
          "text": [
            "length of the list l is: 6\n",
            "slicing the list l: [8, {'her': 'alexa'}, True]\n",
            "False\n",
            "changed list l: ['Hi', ('him', 'his'), 19, {'her': 'alexa'}, True, 8, 'machine']\n",
            "removing and inserting in l: ['Hi', 'Learning', ('him', 'his'), 19, {'her': 'alexa'}, 8, 'machine']\n",
            "l after popping: ['Hi', 'Learning', ('him', 'his'), 19, {'her': 'alexa'}, 8]\n",
            "after extend: ['Hi', 'Learning', ('him', 'his'), 19, {'her': 'alexa'}, 8, 'namaste', 'manchidhi']\n",
            "After deleting the list: name 'l' is not defined\n"
          ]
        }
      ]
    },
    {
      "cell_type": "markdown",
      "source": [
        "## Question- 2\n",
        "\n",
        "Datatype Conversions  "
      ],
      "metadata": {
        "id": "hvi3-diLWOl9"
      }
    },
    {
      "cell_type": "code",
      "source": [
        "# str to int and str to float\n",
        "a = \"10\"\n",
        "i = int(a)\n",
        "b = \"18.96\"\n",
        "f = float(b)\n",
        "print(f\"string to  int  conversion: {i}  ,  type of i  ===> {type(i)}\")\n",
        "print(f\"string to float conversion: {f}, type of f  ===> {type(f)}\")\n",
        "\n",
        "# int to str and float to str\n",
        "f1 = 8.96\n",
        "i1 = 19\n",
        "s1 = str(f1)\n",
        "s2 = str(i1)\n",
        "print(f\" int  to string conversion: {s1},  type of s1 ===> {type(s1)}\")\n",
        "print(f\"float to string conversion: {s2},    type of s2 ===> {type(s2)}\")\n"
      ],
      "metadata": {
        "colab": {
          "base_uri": "https://localhost:8080/"
        },
        "id": "_gO845EU6Vzx",
        "outputId": "ddd0bbd5-b39a-4c25-ab80-8f937a7f6557"
      },
      "execution_count": 11,
      "outputs": [
        {
          "output_type": "stream",
          "name": "stdout",
          "text": [
            "string to  int  conversion: 10  ,  type of i  ===> <class 'int'>\n",
            "string to float conversion: 18.96, type of f  ===> <class 'float'>\n",
            " int  to string conversion: 8.96,  type of s1 ===> <class 'str'>\n",
            "float to string conversion: 19,    type of s2 ===> <class 'str'>\n"
          ]
        }
      ]
    },
    {
      "cell_type": "code",
      "source": [
        "# float to int and int to float\n",
        "a = 16\n",
        "b = -32\n",
        "e = -2.40\n",
        "f = 8.58\n",
        "print(f\" int  value of e is:  {int(e)},  f is: {int(f)}\")\n",
        "print(f\"float value of b is: {float(b)}, a is: {float(a)}\")"
      ],
      "metadata": {
        "id": "B1NSwV_yUU4P",
        "colab": {
          "base_uri": "https://localhost:8080/"
        },
        "outputId": "49801a36-13cc-4bf3-b412-c8d132f07a7a"
      },
      "execution_count": 12,
      "outputs": [
        {
          "output_type": "stream",
          "name": "stdout",
          "text": [
            " int  value of e is:  -2,  f is: 8\n",
            "float value of b is: -32.0, a is: 16.0\n"
          ]
        }
      ]
    },
    {
      "cell_type": "code",
      "source": [
        "# string to list\n",
        "s = \" How ARE YOU?\"\n",
        "l = s.split() # divide string across white spaces, can pass the paramaeter for suppose comma (,) across which we want to divide\n",
        "print(\"string to list\",l, \"===>\",type(l))\n",
        "\n",
        "\n",
        "# list to string\n",
        "st = \"\".join(l)\n",
        "print(\"list to string ===>\", st)\n",
        "st1 = \" \".join(l)\n",
        "print(st1) "
      ],
      "metadata": {
        "colab": {
          "base_uri": "https://localhost:8080/"
        },
        "id": "42NmhZBQGiAG",
        "outputId": "c9d1dc21-74b7-4651-fc56-9698e522f661"
      },
      "execution_count": 13,
      "outputs": [
        {
          "output_type": "stream",
          "name": "stdout",
          "text": [
            "string to list ['How', 'ARE', 'YOU?'] ===> <class 'list'>\n",
            "list to string ===> HowAREYOU?\n",
            "How ARE YOU?\n"
          ]
        }
      ]
    },
    {
      "cell_type": "markdown",
      "source": [
        "# Question-3 \n",
        "if / if-else / if-elif-else conditions"
      ],
      "metadata": {
        "id": "u7EknFzuu8R2"
      }
    },
    {
      "cell_type": "code",
      "source": [
        "# print the statement when the given condition holds. \n",
        "# Here condition is given statement has even number as length\n",
        "statement =\"The given condition is satisfied\"\n",
        "if len(statement)%2==0:\n",
        "  print(statement)\n",
        "  print(f\"length of statement is :{len(statement)}\")"
      ],
      "metadata": {
        "colab": {
          "base_uri": "https://localhost:8080/"
        },
        "id": "ZIAw45OD21g3",
        "outputId": "5ae4c3f7-0314-43e7-94ba-edf9ba88573d"
      },
      "execution_count": 14,
      "outputs": [
        {
          "output_type": "stream",
          "name": "stdout",
          "text": [
            "The given condition is satisfied\n",
            "length of statement is :32\n"
          ]
        }
      ]
    },
    {
      "cell_type": "code",
      "source": [
        "# print the given number if it is even else print not an even number \n",
        "a = 24\n",
        "print(f\"{a} is even number\" if a%2==0 else print(\"'a' is Not a even number\"))\n"
      ],
      "metadata": {
        "colab": {
          "base_uri": "https://localhost:8080/"
        },
        "id": "8tXOcQoOu9aL",
        "outputId": "9ded7641-6b9c-4563-b4d9-5462adc72b9b"
      },
      "execution_count": 15,
      "outputs": [
        {
          "output_type": "stream",
          "name": "stdout",
          "text": [
            "24 is even number\n"
          ]
        }
      ]
    },
    {
      "cell_type": "code",
      "source": [
        "# print the relation between two numbers(>, <, =)\n",
        "a = 15\n",
        "b = 15\n",
        "if a>b:\n",
        "  print(\"a is greater than b\")\n",
        "elif b>a:\n",
        "  print(\"b is greater than a and a is less than b\")\n",
        "else:\n",
        "  print(\"Both are a and b equal\")  "
      ],
      "metadata": {
        "id": "Yu3QQ4nZvsiz",
        "colab": {
          "base_uri": "https://localhost:8080/"
        },
        "outputId": "478ac058-473d-4418-d351-3aecf77477f1"
      },
      "execution_count": 16,
      "outputs": [
        {
          "output_type": "stream",
          "name": "stdout",
          "text": [
            "Both are a and b equal\n"
          ]
        }
      ]
    },
    {
      "cell_type": "code",
      "source": [
        "# To find the number of given values are true\n",
        "a = True\n",
        "b = False\n",
        "\n",
        "if a and b:\n",
        "  print(\"Both values are true\")\n",
        "elif a or b:\n",
        "  print(\"One of the two values is true\") \n",
        "else:\n",
        "  print(\"Neither of them are true\")   "
      ],
      "metadata": {
        "colab": {
          "base_uri": "https://localhost:8080/"
        },
        "id": "ME0CQjZp5BW3",
        "outputId": "df5c9ce6-035f-4d82-879d-57c11991877c"
      },
      "execution_count": 17,
      "outputs": [
        {
          "output_type": "stream",
          "name": "stdout",
          "text": [
            "One of the two values is true\n"
          ]
        }
      ]
    },
    {
      "cell_type": "markdown",
      "source": [
        "# Question-4\n",
        "while and for loops"
      ],
      "metadata": {
        "id": "pVI7MY8Auu8w"
      }
    },
    {
      "cell_type": "code",
      "source": [
        "# print all elements of the list in seperate lines using for loop\n",
        "l =[\"HI\", \"Hello\",\"Data\", \"list\", \"hyd\",\"ML\"]\n",
        "for i in l:\n",
        "  print(i) "
      ],
      "metadata": {
        "colab": {
          "base_uri": "https://localhost:8080/"
        },
        "id": "td0omfZP2Who",
        "outputId": "fac95434-eaae-4b1f-f950-aebf89a9bd29"
      },
      "execution_count": 18,
      "outputs": [
        {
          "output_type": "stream",
          "name": "stdout",
          "text": [
            "HI\n",
            "Hello\n",
            "Data\n",
            "list\n",
            "hyd\n",
            "ML\n"
          ]
        }
      ]
    },
    {
      "cell_type": "code",
      "source": [
        "# to print the following pattern using for loop\n",
        "n =10\n",
        "for i in range(1,n,2):\n",
        "  print(i*'*')"
      ],
      "metadata": {
        "colab": {
          "base_uri": "https://localhost:8080/"
        },
        "id": "m6dJBwykuwvz",
        "outputId": "0400248a-4503-40fe-c2e4-a72330ecf1a5"
      },
      "execution_count": 19,
      "outputs": [
        {
          "output_type": "stream",
          "name": "stdout",
          "text": [
            "*\n",
            "***\n",
            "*****\n",
            "*******\n",
            "*********\n"
          ]
        }
      ]
    },
    {
      "cell_type": "code",
      "source": [
        "# print first 'n' numbers of fibonacci series using while loop \n",
        "l=[1,1]\n",
        "n = 10\n",
        "i=2\n",
        "while i<n:\n",
        "  l.append(l[i-1]+l[i-2])\n",
        "  i+=1\n",
        "print(\"fibonacci series: \",l)  \n",
        "  "
      ],
      "metadata": {
        "colab": {
          "base_uri": "https://localhost:8080/"
        },
        "id": "ybWMCnDyvLdB",
        "outputId": "4aadbb62-4963-4f3e-d31b-3be649e2af39"
      },
      "execution_count": 20,
      "outputs": [
        {
          "output_type": "stream",
          "name": "stdout",
          "text": [
            "fibonacci series:  [1, 1, 2, 3, 5, 8, 13, 21, 34, 55]\n"
          ]
        }
      ]
    },
    {
      "cell_type": "code",
      "source": [
        "# print the binary form of the given decimal number using while loop\n",
        "n = 17\n",
        "b=''\n",
        "while n>0:\n",
        "  a = n%2\n",
        "  n = n//2\n",
        "  b = str(a) + b\n",
        "print(b)  "
      ],
      "metadata": {
        "colab": {
          "base_uri": "https://localhost:8080/"
        },
        "id": "jKgy5o-Bwaju",
        "outputId": "f010f5ff-87bc-410d-b7f4-ad1a844f6a94"
      },
      "execution_count": 21,
      "outputs": [
        {
          "output_type": "stream",
          "name": "stdout",
          "text": [
            "10001\n"
          ]
        }
      ]
    },
    {
      "cell_type": "markdown",
      "source": [
        "# Question-5\n",
        "Functions\n"
      ],
      "metadata": {
        "id": "Bhf9_opR2uMV"
      }
    },
    {
      "cell_type": "code",
      "source": [
        "# define a function to greet the new member\n",
        "\n",
        "def greeting(name):\n",
        "  print(f\"Hello {name}, Welcome to the team\")\n",
        "greeting('DJ')  "
      ],
      "metadata": {
        "colab": {
          "base_uri": "https://localhost:8080/"
        },
        "id": "BqFOVcUtxhzP",
        "outputId": "4b733804-8d0a-43a5-f960-56ac8b8ba6b5"
      },
      "execution_count": 22,
      "outputs": [
        {
          "output_type": "stream",
          "name": "stdout",
          "text": [
            "Hello DJ, Welcome to the team\n"
          ]
        }
      ]
    },
    {
      "cell_type": "code",
      "source": [
        "# define a function that returns all the factor of given number\n",
        "\n",
        "def factors(n):\n",
        "  s = ' '\n",
        "  for i in range(1,n+1):\n",
        "    if (n)%i ==0 :\n",
        "      s = s + str(i)+\" \"\n",
        "  return s\n",
        "\n",
        "b = factors(16)\n",
        "print(b)\n",
        "print(factors(10))"
      ],
      "metadata": {
        "colab": {
          "base_uri": "https://localhost:8080/"
        },
        "id": "U8HKQvHsKj2K",
        "outputId": "5dcdfbb7-bb55-49ee-b1f5-f3f61dbf2f25"
      },
      "execution_count": 23,
      "outputs": [
        {
          "output_type": "stream",
          "name": "stdout",
          "text": [
            " 1 2 4 8 16 \n",
            " 1 2 5 10 \n"
          ]
        }
      ]
    },
    {
      "cell_type": "code",
      "source": [
        "# define a function where we dont know the number of arguments it may recieve\n",
        "\n",
        "def experience(*args): # recieves tuple of arguments \n",
        "  i =0\n",
        "  for j in args:\n",
        "    print(f\"My experience {i} ===> {j}\")\n",
        "    i = i+1\n",
        "experience(\"backend\", \"ML engineer\")"
      ],
      "metadata": {
        "colab": {
          "base_uri": "https://localhost:8080/"
        },
        "id": "fRJsk31SGzHc",
        "outputId": "8d50ad39-0052-4940-ebdd-a78d1dc66430"
      },
      "execution_count": 24,
      "outputs": [
        {
          "output_type": "stream",
          "name": "stdout",
          "text": [
            "My experience 0 ===> backend\n",
            "My experience 1 ===> ML engineer\n"
          ]
        }
      ]
    },
    {
      "cell_type": "code",
      "source": [
        "# define a function where we dont know the number of keywords arguments it may recieve\n",
        "\n",
        "def pref_address(**kwargs):\n",
        "  for key, value in kwargs.items():\n",
        "    print(f\"{key} =====> {value}\")\n",
        "pref_address(state= \"AP\", country=\"India\")    "
      ],
      "metadata": {
        "colab": {
          "base_uri": "https://localhost:8080/"
        },
        "id": "TfFlnW6dJYX9",
        "outputId": "329507f3-9609-4c81-8126-9fecb6e2a1d1"
      },
      "execution_count": 25,
      "outputs": [
        {
          "output_type": "stream",
          "name": "stdout",
          "text": [
            "state =====> AP\n",
            "country =====> India\n"
          ]
        }
      ]
    },
    {
      "cell_type": "code",
      "source": [
        ""
      ],
      "metadata": {
        "id": "nPgRupCwHhjx"
      },
      "execution_count": 25,
      "outputs": []
    },
    {
      "cell_type": "code",
      "source": [
        "# that returns sum of first n natural numbers using recurssion\n",
        "\n",
        "def sum_nn(n=10):  # default argument value if not given\n",
        "  if n > 0:\n",
        "    sum = n + sum_nn(n - 1)\n",
        "  else:\n",
        "    sum = 0\n",
        "  return sum\n",
        "\n",
        "print(sum_nn())\n",
        "print(f\"sum of first 11 natural numbers is: {sum_nn(11)}\")  "
      ],
      "metadata": {
        "colab": {
          "base_uri": "https://localhost:8080/"
        },
        "id": "IUtwJTtfIzar",
        "outputId": "2a9614d1-7e19-481e-ba64-b5bfe5ef67b1"
      },
      "execution_count": 26,
      "outputs": [
        {
          "output_type": "stream",
          "name": "stdout",
          "text": [
            "55\n",
            "sum of first 11 natural numbers is: 66\n"
          ]
        }
      ]
    }
  ]
}
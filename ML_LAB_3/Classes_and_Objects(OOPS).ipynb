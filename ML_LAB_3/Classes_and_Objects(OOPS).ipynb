{
  "nbformat": 4,
  "nbformat_minor": 0,
  "metadata": {
    "colab": {
      "name": "ML_LAB_3.ipynb",
      "provenance": []
    },
    "kernelspec": {
      "name": "python3",
      "display_name": "Python 3"
    },
    "language_info": {
      "name": "python"
    }
  },
  "cells": [
    {
      "cell_type": "markdown",
      "source": [
        "by\n",
        "***Dasari Jayanth***  \n",
        "Roll No. **2019BCS016**"
      ],
      "metadata": {
        "id": "Q13AqDRSU07O"
      }
    },
    {
      "cell_type": "markdown",
      "source": [
        "# Question-1 : Defining Classes and Objects in Python\n",
        "Topics Covered are  \n",
        "*   Initialize Public and Private Variables.\n",
        "*   Defining a Function inside a class.  \n",
        "*   Objects Accessing Functions and Variables of that class."
      ],
      "metadata": {
        "id": "sr1_3nemVGuS"
      }
    },
    {
      "cell_type": "code",
      "source": [
        "# Problem 1\n",
        "\n",
        "class var_operations:\n",
        "  s = 0 #Initializing sum of 3 numbers as 0 \n",
        "  def __init__(self, num1, num2, num3):\n",
        "    self.a   = num1     # public \n",
        "    self._b  = num2     # protected\n",
        "    self.__c = num3     # private\n",
        "\n",
        "  def addition(self):\n",
        "    self.s = self.a + self._b + self.__c\n",
        "\n",
        "  def show_sum(self):\n",
        "    self.addition()\n",
        "    print(f\"Addition of a,b,c is: {self.s}\")  \n",
        "\n",
        "  def show_c(self):\n",
        "    print(f\"Value of c: {self.__c}\")  \n",
        "\n",
        "I1 = var_operations(3,5,7)\n",
        "print(f\"Value of a: {I1.a}\")\n",
        "print(f\"Value of b: {I1._b}\")\n",
        "try:\n",
        "  print(f\"Value of c: {I1.__c}\")\n",
        "except:\n",
        "  print(\"can't access private variable outside\")\n",
        "\n",
        "I1.show_c()\n",
        "I1.show_sum()\n",
        "\n",
        "\n",
        "\n"
      ],
      "metadata": {
        "colab": {
          "base_uri": "https://localhost:8080/"
        },
        "id": "q6m-R6gpU-iy",
        "outputId": "fd234617-7ef6-4aca-c8ef-490c843b71e7"
      },
      "execution_count": 1,
      "outputs": [
        {
          "output_type": "stream",
          "name": "stdout",
          "text": [
            "Value of a: 3\n",
            "Value of b: 5\n",
            "can't access private variable outside\n",
            "Value of c: 7\n",
            "Addition of a,b,c is: 15\n"
          ]
        }
      ]
    },
    {
      "cell_type": "code",
      "source": [
        "# Problem 2\n",
        "\n",
        "class student:\n",
        "  clgName                      = 'ABV-IIITM Gwalior' # public    class attribute\n",
        "  _clgDirector                 = 'XYZ'               # protected class attribute\n",
        "  __clg_Director_Mobile_Number = 9999999999          # private   class attribute \n",
        "\n",
        "  def __init__(self, name, age, phn_no, cgpa):\n",
        "    self.name     = name       # public    instance attribute\n",
        "    self.age      = age        # public    instance attribute\n",
        "    self._phnNo  = phn_no      # protected instance attribute\n",
        "    self.__CGPA  = cgpa        # private   instance attribute\n",
        "\n",
        "  def student_name(self):     #defining a function\n",
        "    print(f\"Name: {self.name}\")   \n",
        "\n",
        "  def pvt_inst_var(self):\n",
        "    print(f\"CGPA from function: {self.__CGPA}\")  \n",
        "\n",
        "  def pvt_class_var(self):\n",
        "    print(f\"Director Phone Number from function: {self.__clg_Director_Mobile_Number}\")  \n",
        "\n",
        "# creating an object of class(creating instance)    \n",
        "s1 = student(\"DJ\",18,8888888888,8)\n",
        "\n",
        "# calling function of class\n",
        "s1.student_name()\n",
        "\n",
        "# Accessing Public, Protected, Private Instance Variables.\n",
        "print(f\"Age      : {s1.age}\")         # public\n",
        "print(f\"Phone No : {s1._phnNo}\")      # protected\n",
        "\n",
        "try:      \n",
        "  print(s1.__CGPA)\n",
        "except:\n",
        "  print(\"Can't Access Private Instance variable outside the class\")  \n",
        "\n",
        "s1.pvt_inst_var() \n",
        "\n",
        "\n",
        "print()\n",
        "\n",
        "# Accessing Public, Protected, Private Class Variables.\n",
        "print(f\"CLG Name    : {s1.clgName}\")                 # public   \n",
        "print(f\"CLG Director: {s1._clgDirector}\")            # protected\n",
        "\n",
        "try:      \n",
        "  print(s1.__clg_Director_Mobile_Number)\n",
        "except:\n",
        "  print(\"Can't Access Private variable outside the class\")  \n",
        "\n",
        "s1.pvt_class_var()\n",
        "print(f\"Director Phone Number directly outside the class: {s1._student__clg_Director_Mobile_Number}\")"
      ],
      "metadata": {
        "colab": {
          "base_uri": "https://localhost:8080/"
        },
        "id": "0QOMGObMWURP",
        "outputId": "3af3024d-7867-41ef-f56d-165f549d3814"
      },
      "execution_count": 2,
      "outputs": [
        {
          "output_type": "stream",
          "name": "stdout",
          "text": [
            "Name: DJ\n",
            "Age      : 18\n",
            "Phone No : 8888888888\n",
            "Can't Access Private Instance variable outside the class\n",
            "CGPA from function: 8\n",
            "\n",
            "CLG Name    : ABV-IIITM Gwalior\n",
            "CLG Director: XYZ\n",
            "Can't Access Private variable outside the class\n",
            "Director Phone Number from function: 9999999999\n",
            "Director Phone Number directly outside the class: 9999999999\n"
          ]
        }
      ]
    },
    {
      "cell_type": "markdown",
      "source": [
        "# Question-2 : Function Overloading, Inheritance  \n",
        "  \n",
        "Function overloading ==> same function name different implementations in same class(method different with name same).  \n",
        "Function Overriding  ==> Changing the implementation of function in subclass that is already in base class.  \n",
        "  \n",
        "By default function overloading is not there in python (oops) but it can be achieved using decorators, defining functions by setting parameters default values to None.  (i.e, when we give same function name to two different methods of class directly, it considers only last implementation one resulting error)\n",
        "  \n",
        "\n",
        "**Inheritance** ==> Allowing one class to derive the properties of another class. Only public properties can be inherited.  \n",
        "\n",
        "* Single Inheritance      ==> Subclass can derive the properties of only on base class.  \n",
        "* Multiple Inheritance    ==> Subclass derives the properties of more than one class.\n",
        "* Multilevel Inheritance  ==> Subclass2 inherits properties from subclass1 which inherits properties of class1.  \n",
        "\n",
        "\n",
        "\n",
        "\n",
        "\n",
        "\n"
      ],
      "metadata": {
        "id": "Y9W3e5MCWM22"
      }
    },
    {
      "cell_type": "code",
      "source": [
        "!pip install pythonlangutil"
      ],
      "metadata": {
        "colab": {
          "base_uri": "https://localhost:8080/"
        },
        "id": "bs8fNOyMKXuY",
        "outputId": "d7b914ef-0054-4375-89dc-dfb4f60914af"
      },
      "execution_count": 3,
      "outputs": [
        {
          "output_type": "stream",
          "name": "stdout",
          "text": [
            "Requirement already satisfied: pythonlangutil in /usr/local/lib/python3.7/dist-packages (0.1)\n"
          ]
        }
      ]
    },
    {
      "cell_type": "code",
      "source": [
        "# can also use \"from multipledispatch import dispatch\" instead of below for overloading\n",
        "\n",
        "from pythonlangutil.overload import Overload, signature\n",
        "\n",
        "class people:\n",
        "  Adhaar_id = 1234 \n",
        "  _age = 21\n",
        "  __phn_no = 9999999999\n",
        "  def about(self):\n",
        "    print(\"I am one of the people\")\n",
        "\n",
        "#-------------------------------------------------------------------------------------\n",
        "\n",
        "class student(people):                                                     # Single Inheritence\n",
        "  college = \"ABV-IIITM Gwalior\"\n",
        "  def __init__(self,id=\"xxxx\"):\n",
        "      self.Enrollment_id = id\n",
        "  def about(self):                                                        # function overriding\n",
        "    print(f\"I am a student with enrollment id : {self.Enrollment_id}\")    \n",
        "\n",
        "#-------------------------------------------------------------------------------------\n",
        "\n",
        "class shortlisted(student):                                               # Multilevel inheritence    \n",
        "  def __init__(self,grade=8):\n",
        "    self.CGPA = grade\n",
        "    super().__init__()\n",
        "\n",
        "  def about(self):                                                        # function overriding\n",
        "    print(f\"My CGPA is : {self.CGPA}\")\n",
        "  \n",
        "  def review(self, lpa=None):                                                        # function overloading\n",
        "    if lpa == None: \n",
        "      print(f\"I didn't get selected\")   \n",
        "    else:  \n",
        "      print(f\"I got selected with Package: {lpa}\")                                                                        \n",
        "                       \n",
        "  def check_pvt_access(self):\n",
        "    try:\n",
        "      print(self.__phone)  \n",
        "    except:\n",
        "      print(\"private variables cant be inherited\")  \n",
        "\n",
        "  def check_ptd_access(self):\n",
        "    try:\n",
        "      print(f\"Age is: {self._age}\")  \n",
        "    except:\n",
        "      print(\"protected variables cant be inherited\")    \n",
        "\n",
        "#-----------------------------------------------------------------------------------\n",
        "\n",
        "class company:\n",
        "  company_name = 'Media.net'\n",
        "  # def about(self, A=None):       # function overloading \n",
        "  #   if A== None:\n",
        "  #     print(\"We are from media.net company looking to hiring interns\")  \n",
        "  #   else:\n",
        "  #     print(f\"We are form company {A}\")  \n",
        "  @Overload\n",
        "  @signature()\n",
        "  def show(self):\n",
        "    print(f\"Company Name ==> {self.company_name}\")   \n",
        "  @show.overload\n",
        "  @signature('str')\n",
        "  def show(self, A):\n",
        "    print(f\"Company Name ==> {A}\")   \n",
        "\n",
        "#-----------------------------------------------------------------------------------\n",
        "\n",
        "class Interns(shortlisted, company):                                      # Multiple Inheritance\n",
        "  def about(self):                                                        # function overriding\n",
        "    print(f\"Student with Adhaar_id {self.Adhaar_id} is shortlisted for company {self.company_name} as his CGPA is {self.CGPA}\")\n",
        "#-------------------------------------------------------------------------------------\n",
        "A1 = shortlisted(8.2)\n",
        "A1.about()  \n",
        "print(f\"My Adhaar id     : {A1.Adhaar_id}\")\n",
        "print(f\"My enrollment id : {A1.Enrollment_id}\")\n",
        "A1.check_pvt_access()\n",
        "A1.check_ptd_access()\n",
        "\n",
        "print()\n",
        "\n",
        "print(\"Illustrating function overloading: \")\n",
        "\n",
        "A1.review(16)\n",
        "A1.review()\n",
        "\n",
        "print()\n",
        "#-------------------------------------------------------------------------------------\n",
        "B1 = student(\"abc\")\n",
        "B1.about()\n",
        "print(f\"College  : {B1.college}\")\n",
        "print(f\"Adhaar_id: {B1.Adhaar_id}\")\n",
        "\n",
        "print()\n",
        "#-------------------------------------------------------------------------------------\n",
        "C1 = Interns()\n",
        "print(\"Illustrating function overloading using decorators:\")\n",
        "C1.show()\n",
        "C1.show('Amazon')"
      ],
      "metadata": {
        "colab": {
          "base_uri": "https://localhost:8080/"
        },
        "id": "uXjmzbZ59gPo",
        "outputId": "4c1f8fda-5abd-4294-91a6-d6e55671f5d2"
      },
      "execution_count": 4,
      "outputs": [
        {
          "output_type": "stream",
          "name": "stdout",
          "text": [
            "My CGPA is : 8.2\n",
            "My Adhaar id     : 1234\n",
            "My enrollment id : xxxx\n",
            "private variables cant be inherited\n",
            "Age is: 21\n",
            "\n",
            "Illustrating function overloading: \n",
            "I got selected with Package: 16\n",
            "I didn't get selected\n",
            "\n",
            "I am a student with enrollment id : abc\n",
            "College  : ABV-IIITM Gwalior\n",
            "Adhaar_id: 1234\n",
            "\n",
            "Illustrating function overloading using decorators:\n",
            "Company Name ==> Media.net\n",
            "Company Name ==> Amazon\n"
          ]
        }
      ]
    },
    {
      "cell_type": "markdown",
      "source": [
        "# Question 3"
      ],
      "metadata": {
        "id": "bew4JxqiMyx6"
      }
    },
    {
      "cell_type": "code",
      "source": [
        "%%writefile AA.py\n",
        "\n",
        "class A:\n",
        "  default = \"I am in Class A from AA.py\"\n",
        "  def __init__(self, var = 'A'):\n",
        "    self.ele = var\n",
        "  def show(self):\n",
        "    print(f\"value is: {self.ele}\")\n"
      ],
      "metadata": {
        "colab": {
          "base_uri": "https://localhost:8080/"
        },
        "id": "vcW-0QRTMyKl",
        "outputId": "cba6ffe9-d473-4e2a-939a-9895829801b3"
      },
      "execution_count": 5,
      "outputs": [
        {
          "output_type": "stream",
          "name": "stdout",
          "text": [
            "Overwriting AA.py\n"
          ]
        }
      ]
    },
    {
      "cell_type": "code",
      "source": [
        "%%writefile BB.py\n",
        "\n",
        "class B:\n",
        "  default = \"I am in Class B from BB.py\"\n",
        "  def __init__(self, var = 'B'):\n",
        "    self.ele = var\n",
        "  def show(self):\n",
        "    print(f\"value is: {self.ele}\")\n"
      ],
      "metadata": {
        "colab": {
          "base_uri": "https://localhost:8080/"
        },
        "id": "aC-dtvw3Tp3P",
        "outputId": "c8f6c095-99ff-4c89-9cda-daa086dc1b2a"
      },
      "execution_count": 6,
      "outputs": [
        {
          "output_type": "stream",
          "name": "stdout",
          "text": [
            "Overwriting BB.py\n"
          ]
        }
      ]
    },
    {
      "cell_type": "code",
      "source": [
        "%%writefile CC.py\n",
        "\n",
        "class C:\n",
        "  default = \"I am in Class C from CC.py\"\n",
        "  def __init__(self, var = 'C'):\n",
        "    self.ele = var\n",
        "  def show(self):\n",
        "    print(f\"value is: {self.ele}\")\n"
      ],
      "metadata": {
        "colab": {
          "base_uri": "https://localhost:8080/"
        },
        "id": "InZywYVzTquf",
        "outputId": "c7b1ce72-eff2-4c43-8fc5-21bb25ccd0ec"
      },
      "execution_count": 7,
      "outputs": [
        {
          "output_type": "stream",
          "name": "stdout",
          "text": [
            "Overwriting CC.py\n"
          ]
        }
      ]
    },
    {
      "cell_type": "code",
      "source": [
        "try:\n",
        "  check = A()\n",
        "except:\n",
        "  print(\"A class is not defined\")  "
      ],
      "metadata": {
        "colab": {
          "base_uri": "https://localhost:8080/"
        },
        "id": "Hf5wvuy1U-vl",
        "outputId": "7ee1fd51-bd48-4672-ab91-bd90c496861d"
      },
      "execution_count": 8,
      "outputs": [
        {
          "output_type": "stream",
          "name": "stdout",
          "text": [
            "A class is not defined\n"
          ]
        }
      ]
    },
    {
      "cell_type": "code",
      "source": [
        "from AA import A\n",
        "from BB import B\n",
        "from CC import C\n",
        "obj1 = A(10)\n",
        "obj2 = B(16)\n",
        "obj3 = C(15)\n",
        "print(f\"{obj1.default} and in Class A, Variable: \", end = ' ') \n",
        "obj1.show()\n",
        "print(f\"\\n{obj2.default} and in Class B, variable: \", end = ' ')\n",
        "obj2.show()\n",
        "print(f\"\\n{obj3.default} and in Class C, variable: \", end = ' ')\n",
        "obj3.show()"
      ],
      "metadata": {
        "colab": {
          "base_uri": "https://localhost:8080/"
        },
        "id": "cTCJgevd_cgU",
        "outputId": "c5d6614b-4a94-4271-e099-6665f3d3358f"
      },
      "execution_count": 9,
      "outputs": [
        {
          "output_type": "stream",
          "name": "stdout",
          "text": [
            "I am in Class A from AA.py and in Class A, Variable:  value is: 10\n",
            "\n",
            "I am in Class B from BB.py and in Class B, variable:  value is: 16\n",
            "\n",
            "I am in Class C from CC.py and in Class C, variable:  value is: 15\n"
          ]
        }
      ]
    }
  ]
}
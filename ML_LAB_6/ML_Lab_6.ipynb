{
  "nbformat": 4,
  "nbformat_minor": 0,
  "metadata": {
    "colab": {
      "name": "ML_Lab_6.ipynb",
      "provenance": []
    },
    "kernelspec": {
      "name": "python3",
      "display_name": "Python 3"
    },
    "language_info": {
      "name": "python"
    }
  },
  "cells": [
    {
      "cell_type": "markdown",
      "source": [
        "By  \n",
        "Dasari Jayanth  \n",
        "2019BCS-016  "
      ],
      "metadata": {
        "id": "XrIzdt-k8ktA"
      }
    },
    {
      "cell_type": "markdown",
      "source": [
        "# Importing Dataset"
      ],
      "metadata": {
        "id": "Pb1eZcwL88Dn"
      }
    },
    {
      "cell_type": "code",
      "source": [
        "import tensorflow as tf\n",
        "from os import path, getcwd, chdir\n",
        "import pandas as pd\n",
        "import numpy as np\n",
        "import seaborn as sns\n",
        "import matplotlib.pyplot as plt\n",
        "import gzip\n",
        "import sys\n",
        "\n",
        "from sklearn.preprocessing import StandardScaler\n",
        "from sklearn.decomposition import PCA"
      ],
      "metadata": {
        "id": "hbxD4DBO8_VG"
      },
      "execution_count": 1,
      "outputs": []
    },
    {
      "cell_type": "code",
      "source": [
        "config = tf.compat.v1.ConfigProto()\n",
        "config.gpu_options.allow_growth = True\n",
        "sess = tf.compat.v1.Session(config=config)"
      ],
      "metadata": {
        "id": "oIb-xZiH9DCz"
      },
      "execution_count": 2,
      "outputs": []
    },
    {
      "cell_type": "markdown",
      "source": [
        "# Loading Dataset"
      ],
      "metadata": {
        "id": "F6i1C7lZ8tCH"
      }
    },
    {
      "cell_type": "code",
      "source": [
        "mnist = tf.keras.datasets.mnist\n",
        "(train_images, train_labels), (test_images, test_labels) = mnist.load_data()\n",
        "X = train_images\n",
        "X.shape"
      ],
      "metadata": {
        "id": "ivBLze9a8rOy",
        "colab": {
          "base_uri": "https://localhost:8080/"
        },
        "outputId": "61e2fc75-e120-4fc8-b6e8-37bcefb51290"
      },
      "execution_count": 3,
      "outputs": [
        {
          "output_type": "execute_result",
          "data": {
            "text/plain": [
              "(60000, 28, 28)"
            ]
          },
          "metadata": {},
          "execution_count": 3
        }
      ]
    },
    {
      "cell_type": "code",
      "source": [
        "X_=X.reshape(-1,28,28,1)\n",
        "plt.imshow(X_[16,:,:,0])"
      ],
      "metadata": {
        "id": "nbOfXx9i9JG1",
        "colab": {
          "base_uri": "https://localhost:8080/",
          "height": 282
        },
        "outputId": "7296e7c2-d2e2-4f6d-d838-369bf03f1b0b"
      },
      "execution_count": 4,
      "outputs": [
        {
          "output_type": "execute_result",
          "data": {
            "text/plain": [
              "<matplotlib.image.AxesImage at 0x7f4c8851fb90>"
            ]
          },
          "metadata": {},
          "execution_count": 4
        },
        {
          "output_type": "display_data",
          "data": {
            "text/plain": [
              "<Figure size 432x288 with 1 Axes>"
            ],
            "image/png": "[encoded data removed]"
          },
          "metadata": {
            "needs_background": "light"
          }
        }
      ]
    },
    {
      "cell_type": "code",
      "source": [
        "n_train, nx, ny = train_images.shape\n",
        "train_images.shape"
      ],
      "metadata": {
        "id": "nJJU5GZW9Kyl",
        "colab": {
          "base_uri": "https://localhost:8080/"
        },
        "outputId": "ae529e0a-eb14-4049-e306-356eae8cbd1e"
      },
      "execution_count": 5,
      "outputs": [
        {
          "output_type": "execute_result",
          "data": {
            "text/plain": [
              "(60000, 28, 28)"
            ]
          },
          "metadata": {},
          "execution_count": 5
        }
      ]
    },
    {
      "cell_type": "code",
      "source": [
        "n_test, nx_t, ny_t = test_images.shape\n",
        "test_images.shape"
      ],
      "metadata": {
        "id": "-K8CBrYT9KvG",
        "colab": {
          "base_uri": "https://localhost:8080/"
        },
        "outputId": "ba7654bb-7c31-4532-8fc6-ac71041d9f94"
      },
      "execution_count": 6,
      "outputs": [
        {
          "output_type": "execute_result",
          "data": {
            "text/plain": [
              "(10000, 28, 28)"
            ]
          },
          "metadata": {},
          "execution_count": 6
        }
      ]
    },
    {
      "cell_type": "code",
      "source": [
        "# Preprocessing and Normalizing the data\n",
        "\n",
        "# # Training Data\n",
        "train_images = train_images.reshape((n_train, nx*ny))  # 3-D ==> 2-D\n",
        "\n",
        "# # Test Data\n",
        "test_images  = test_images.reshape((n_test, nx_t*ny_t))"
      ],
      "metadata": {
        "id": "r2jSqOzMWGRF"
      },
      "execution_count": 7,
      "outputs": []
    },
    {
      "cell_type": "code",
      "source": [
        "#Normalize features:\n",
        "\n",
        "from sklearn.preprocessing import StandardScaler\n",
        "scaler = StandardScaler()\n",
        "\n",
        "train_data_N = scaler.fit_transform(train_images)\n",
        "print(train_data_N.shape)\n",
        "\n",
        "test_data_N = scaler.fit_transform(test_images)\n",
        "print(f\"shape of test_data_N ==> {test_data_N.shape}\")"
      ],
      "metadata": {
        "colab": {
          "base_uri": "https://localhost:8080/"
        },
        "id": "Z3QrKaMnWFbC",
        "outputId": "60497429-4e21-43bd-8c2c-2a1c105af2a1"
      },
      "execution_count": 8,
      "outputs": [
        {
          "output_type": "stream",
          "name": "stdout",
          "text": [
            "(60000, 784)\n",
            "shape of test_data_N ==> (10000, 784)\n"
          ]
        }
      ]
    },
    {
      "cell_type": "code",
      "source": [
        "N_COMP = 9 #The number of components for PCA\n",
        "SAMPLE_INDEX = 16 #The index of the image to show"
      ],
      "metadata": {
        "id": "BnHs5pxE9KJ5"
      },
      "execution_count": 9,
      "outputs": []
    },
    {
      "cell_type": "code",
      "source": [
        "#Apply PCA:\n",
        "pca = PCA(n_components=N_COMP)\n",
        "X_norm_r = pca.fit(train_data_N).transform(train_data_N)\n",
        "X_norm_t = pca.transform(test_data_N)"
      ],
      "metadata": {
        "id": "nKFrfqOW9KF_"
      },
      "execution_count": 10,
      "outputs": []
    },
    {
      "cell_type": "code",
      "source": [
        "#Plot Component-wise and Cumulative Explained Variance:\n",
        "plt.subplot(1, 1, 1)\n",
        "plt.plot(range(N_COMP), pca.explained_variance_ratio_)\n",
        "plt.plot(range(N_COMP), np.cumsum(pca.explained_variance_ratio_))\n",
        "plt.title(\"Component-wise and Cumulative Explained Variance\", fontsize=10)"
      ],
      "metadata": {
        "id": "xt0AdQbV9KC9",
        "colab": {
          "base_uri": "https://localhost:8080/",
          "height": 296
        },
        "outputId": "4ffeba77-f366-4815-e7a7-628bfa3845b8"
      },
      "execution_count": 11,
      "outputs": [
        {
          "output_type": "execute_result",
          "data": {
            "text/plain": [
              "Text(0.5, 1.0, 'Component-wise and Cumulative Explained Variance')"
            ]
          },
          "metadata": {},
          "execution_count": 11
        },
        {
          "output_type": "display_data",
          "data": {
            "text/plain": [
              "<Figure size 432x288 with 1 Axes>"
            ],
            "image/png": "[encoded data removed]"
          },
          "metadata": {
            "needs_background": "light"
          }
        }
      ]
    },
    {
      "cell_type": "code",
      "source": [
        "#Invert the PCA to obtain the image with the new components:\n",
        "inv = pca.inverse_transform(X_norm_r[SAMPLE_INDEX, :])\n",
        "inv = scaler.inverse_transform(inv.reshape(1,-1)) #Unnormalize"
      ],
      "metadata": {
        "id": "mjqUzI7jGw1s"
      },
      "execution_count": 12,
      "outputs": []
    },
    {
      "cell_type": "code",
      "source": [
        "#Plot images:\n",
        "fig, axarr = plt.subplots(1, 2, figsize=(12, 4))\n",
        "sns.heatmap(train_images[SAMPLE_INDEX, :].reshape(28, 28), cmap='gray_r', ax=axarr[0])\n",
        "sns.heatmap(inv.reshape(28, 28), cmap='gray_r', ax=axarr[1])\n",
        "\n",
        "axarr[0].set_title(\"Original image\\n({} components)\".format(train_images.shape[1]), fontsize=12)\n",
        "axarr[1].set_title(\"9 components image\", fontsize=12)\n",
        "\n",
        "axarr[0].set_aspect('equal')\n",
        "axarr[1].set_aspect('equal')\n",
        "\n",
        "axarr[0].axis('off')\n",
        "axarr[1].axis('off')\n",
        "\n",
        "plt.show()"
      ],
      "metadata": {
        "colab": {
          "base_uri": "https://localhost:8080/",
          "height": 285
        },
        "id": "FnsRU3FQZpEM",
        "outputId": "988f9274-3826-41b8-981a-320e114d5112"
      },
      "execution_count": 13,
      "outputs": [
        {
          "output_type": "display_data",
          "data": {
            "text/plain": [
              "<Figure size 864x288 with 4 Axes>"
            ],
            "image/png": "[encoded data removed]"
          },
          "metadata": {
            "needs_background": "light"
          }
        }
      ]
    },
    {
      "cell_type": "markdown",
      "source": [
        "2nd way of implementation, without library"
      ],
      "metadata": {
        "id": "V-buFvG4RmBB"
      }
    },
    {
      "cell_type": "code",
      "source": [
        "# X_norm = train_data_N.T #Transpose the design matrix to match the formulas\n",
        "\n",
        "# S = X_norm @ X_norm.T #Covariance matrix\n",
        "# eigvals, eigvecs = np.linalg.eig(S) # compute eigenvalues and eigenvectors\n",
        "# order = np.argsort(eigvals) #sort eigenvalues in ascending order (add [::-1] to get descenging order)\n",
        "# B = eigvecs[:, order[:N_COMP]] #Take the last N_COMP eigenvectors as new basis\n",
        "\n",
        "# C = B.T @ X_norm #Code: projection of X in the subspace spanned by the columns of B\n",
        "\n",
        "# X_rec = B @ C #revert the tranformation to project the code back in the original space\n",
        "\n",
        "# X_rec = X_rec.T #Bring back the dimensions to the original convention\n",
        "# X_rec = scaler.inverse_transform(X_rec) #Unnormalize"
      ],
      "metadata": {
        "id": "W6V-mPBj9KAh"
      },
      "execution_count": 14,
      "outputs": []
    },
    {
      "cell_type": "code",
      "source": [
        "# #Plot images:\n",
        "# fig, axarr = plt.subplots(1, 3, figsize=(12, 4))\n",
        "# sns.heatmap(X[SAMPLE_INDEX, :].reshape(28, 28), cmap='gray_r', ax=axarr[0])\n",
        "# sns.heatmap(inv.reshape(28, 28), cmap='gray_r', ax=axarr[1])\n",
        "# sns.heatmap(X_rec[SAMPLE_INDEX, :].reshape(28, 28), cmap='gray_r', ax=axarr[2])\n",
        "# axarr[0].set_title(\"Original image\\n({} components)\".format(X.shape[1]), fontsize=12)\n",
        "# axarr[1].set_title(\"First {} components image\".format(N_COMP), fontsize=12)\n",
        "# axarr[2].set_title(\"Best {} components image\".format(N_COMP), fontsize=12)\n",
        "# axarr[0].set_aspect('equal')\n",
        "# axarr[1].set_aspect('equal')\n",
        "# axarr[2].set_aspect('equal')\n",
        "# axarr[0].axis('off')\n",
        "# axarr[1].axis('off')\n",
        "# axarr[2].axis('off')\n",
        "\n",
        "# plt.show()"
      ],
      "metadata": {
        "id": "SDVr2LC7Ff-_"
      },
      "execution_count": 15,
      "outputs": []
    },
    {
      "cell_type": "code",
      "source": [
        "# X_t_norm = test_data_N.T #Transpose the design matrix to match the formulas\n",
        "\n",
        "# S_t = X_t_norm @ X_t_norm.T #Covariance matrix\n",
        "# eigvals_t, eigvecs_t = np.linalg.eig(S_t) # compute eigenvalues and eigenvectors\n",
        "# order_t = np.argsort(eigvals_t) #sort eigenvalues in ascending order (add [::-1] to get descenging order)\n",
        "# B = eigvecs_t[:, order_t[:N_COMP]] #Take the last N_COMP eigenvectors as new basis\n",
        "\n",
        "# C = B.T @ X_t_norm #Code: projection of X in the subspace spanned by the columns of B\n",
        "\n",
        "# X_rec_t = B @ C #revert the tranformation to project the code back in the original space\n",
        "\n",
        "# X_rec_t = X_rec_t.T #Bring back the dimensions to the original convention\n",
        "# X_rec_t = scaler.inverse_transform(X_rec_t) #Unnormalize"
      ],
      "metadata": {
        "id": "kiSNlkWpQMXQ"
      },
      "execution_count": 16,
      "outputs": []
    },
    {
      "cell_type": "markdown",
      "source": [
        "# K-NN Classifier"
      ],
      "metadata": {
        "id": "aX8Y5b8iQD_B"
      }
    },
    {
      "cell_type": "code",
      "source": [
        "from sklearn.neighbors import KNeighborsClassifier\n",
        "from sklearn import metrics\n",
        "k = 5\n",
        "kNN_model = KNeighborsClassifier(n_neighbors=k).fit(X_norm_r, train_labels)\n",
        "yhat = kNN_model.predict(X_norm_t)\n",
        "metrics.accuracy_score(test_labels, yhat)"
      ],
      "metadata": {
        "id": "AhKzjYtFFwFu",
        "colab": {
          "base_uri": "https://localhost:8080/"
        },
        "outputId": "7bace860-44c2-48f8-9814-f008d9ea2ec2"
      },
      "execution_count": 19,
      "outputs": [
        {
          "output_type": "execute_result",
          "data": {
            "text/plain": [
              "0.8895"
            ]
          },
          "metadata": {},
          "execution_count": 19
        }
      ]
    },
    {
      "cell_type": "code",
      "source": [
        "k_5 = metrics.accuracy_score(test_labels, yhat)"
      ],
      "metadata": {
        "id": "yWDD5P4abQRx"
      },
      "execution_count": 20,
      "outputs": []
    },
    {
      "cell_type": "code",
      "source": [
        "from sklearn.neighbors import KNeighborsClassifier\n",
        "from sklearn import metrics\n",
        "k = 3\n",
        "kNN_model = KNeighborsClassifier(n_neighbors=k).fit(X_norm_r, train_labels)\n",
        "yhat = kNN_model.predict(X_norm_t)\n",
        "metrics.accuracy_score(test_labels, yhat)"
      ],
      "metadata": {
        "colab": {
          "base_uri": "https://localhost:8080/"
        },
        "id": "Jt452CaFQq06",
        "outputId": "1868e672-c7af-410d-a20b-7c7eb05812f4"
      },
      "execution_count": 21,
      "outputs": [
        {
          "output_type": "execute_result",
          "data": {
            "text/plain": [
              "0.8814"
            ]
          },
          "metadata": {},
          "execution_count": 21
        }
      ]
    },
    {
      "cell_type": "code",
      "source": [
        "k_3 = metrics.accuracy_score(test_labels, yhat)"
      ],
      "metadata": {
        "id": "8boo3zwdbOQg"
      },
      "execution_count": 22,
      "outputs": []
    },
    {
      "cell_type": "markdown",
      "source": [
        "# LDA"
      ],
      "metadata": {
        "id": "yLaLn4g_bgXf"
      }
    },
    {
      "cell_type": "code",
      "source": [
        "from sklearn.discriminant_analysis import LinearDiscriminantAnalysis as LDA"
      ],
      "metadata": {
        "id": "mPw1cll5bXOS"
      },
      "execution_count": 23,
      "outputs": []
    },
    {
      "cell_type": "code",
      "source": [
        "lda = LDA(n_components=9)\n",
        "lda_train = lda.fit_transform(train_data_N, train_labels)\n",
        "lda_test = lda.transform(test_data_N)"
      ],
      "metadata": {
        "id": "tdf2-OV1bizH"
      },
      "execution_count": 24,
      "outputs": []
    },
    {
      "cell_type": "code",
      "source": [
        "from sklearn.neighbors import KNeighborsClassifier\n",
        "from sklearn import metrics\n",
        "k = 5\n",
        "kNN_model = KNeighborsClassifier(n_neighbors=k).fit(lda_train, train_labels)\n",
        "yhat = kNN_model.predict(lda_test)\n",
        "metrics.accuracy_score(test_labels, yhat)"
      ],
      "metadata": {
        "colab": {
          "base_uri": "https://localhost:8080/"
        },
        "id": "tYEnHrywb4ZF",
        "outputId": "bd47e575-e98c-40e1-f405-236941fd4514"
      },
      "execution_count": 25,
      "outputs": [
        {
          "output_type": "execute_result",
          "data": {
            "text/plain": [
              "0.9141"
            ]
          },
          "metadata": {},
          "execution_count": 25
        }
      ]
    },
    {
      "cell_type": "code",
      "source": [
        "k_5_lda = metrics.accuracy_score(test_labels, yhat)"
      ],
      "metadata": {
        "id": "y3xSKHaKb98Y"
      },
      "execution_count": 26,
      "outputs": []
    },
    {
      "cell_type": "code",
      "source": [
        "from sklearn.neighbors import KNeighborsClassifier\n",
        "from sklearn import metrics\n",
        "k = 3\n",
        "kNN_model = KNeighborsClassifier(n_neighbors=k).fit(lda_train, train_labels)\n",
        "yhat = kNN_model.predict(lda_test)\n",
        "metrics.accuracy_score(test_labels, yhat)"
      ],
      "metadata": {
        "colab": {
          "base_uri": "https://localhost:8080/"
        },
        "id": "Xu4RdPrhb9oj",
        "outputId": "73df4ac4-6633-4344-9e44-346b800b8959"
      },
      "execution_count": 27,
      "outputs": [
        {
          "output_type": "execute_result",
          "data": {
            "text/plain": [
              "0.9094"
            ]
          },
          "metadata": {},
          "execution_count": 27
        }
      ]
    },
    {
      "cell_type": "code",
      "source": [
        "k_3_lda = metrics.accuracy_score(test_labels, yhat)"
      ],
      "metadata": {
        "id": "o2HleiP3cBDi"
      },
      "execution_count": 28,
      "outputs": []
    },
    {
      "cell_type": "markdown",
      "source": [
        "# Auto Encoder"
      ],
      "metadata": {
        "id": "B78PmGKJcULN"
      }
    },
    {
      "cell_type": "markdown",
      "source": [
        "[refer here](https://machinelearningmastery.com/autoencoder-for-regression/)"
      ],
      "metadata": {
        "id": "HZmciIUVjnoe"
      }
    },
    {
      "cell_type": "code",
      "source": [
        "from tensorflow.keras import layers, losses\n",
        "from keras.layers import Input, Dense\n",
        "from keras.models import Model"
      ],
      "metadata": {
        "id": "CgcbKpKncSqj"
      },
      "execution_count": 29,
      "outputs": []
    },
    {
      "cell_type": "code",
      "source": [
        "def plot_train_history_loss(history):\n",
        "    # summarize history for loss\n",
        "    plt.plot(history.history['loss'])\n",
        "    plt.plot(history.history['val_loss'])\n",
        "    plt.title('model loss')\n",
        "    plt.ylabel('loss')\n",
        "    plt.xlabel('epoch')\n",
        "    plt.legend(['train', 'test'], loc='upper right')\n",
        "    plt.show()"
      ],
      "metadata": {
        "id": "g4PakBQEcdZY"
      },
      "execution_count": 30,
      "outputs": []
    },
    {
      "cell_type": "code",
      "source": [
        "def display_reconstructed(x_test, decoded_imgs, n=10):\n",
        "    plt.figure(figsize=(20, 4))\n",
        "    for i in range(n):\n",
        "        # display original\n",
        "        ax = plt.subplot(2, n, i + 1)\n",
        "        plt.imshow(x_test[i].reshape(28, 28))\n",
        "        plt.gray()\n",
        "        ax.get_xaxis().set_visible(False)\n",
        "        ax.get_yaxis().set_visible(False)\n",
        "\n",
        "        if decoded_imgs is not None:\n",
        "            # display reconstruction\n",
        "            ax = plt.subplot(2, n, i + 1 + n)\n",
        "            plt.imshow(decoded_imgs[i].reshape(28, 28))\n",
        "            plt.gray()\n",
        "            ax.get_xaxis().set_visible(False)\n",
        "            ax.get_yaxis().set_visible(False)\n",
        "    plt.show()"
      ],
      "metadata": {
        "id": "yZXeZDxccd7b"
      },
      "execution_count": 31,
      "outputs": []
    },
    {
      "cell_type": "code",
      "source": [
        "input_img = Input(shape=(784,))\n",
        "encoded = Dense(500, activation='relu')(input_img)\n",
        "encoded = Dense(224, activation='relu')(encoded)\n",
        "encoded = Dense(128, activation='relu')(encoded)\n",
        "encoded = Dense(9, activation='relu')(encoded)\n",
        "\n",
        "decoded = Dense(128, activation='relu')(encoded)\n",
        "decoded = Dense(224, activation='relu')(decoded)\n",
        "decoded = Dense(500, activation='relu')(decoded)\n",
        "decoded = Dense(784, activation='sigmoid')(decoded)\n",
        "\n",
        "autoencoder = Model(input_img, decoded)"
      ],
      "metadata": {
        "id": "v47nmlyDchpO"
      },
      "execution_count": 35,
      "outputs": []
    },
    {
      "cell_type": "code",
      "source": [
        "autoencoder.compile(optimizer='adam', loss=losses.MeanSquaredError(), metrics=['accuracy'])\n",
        "history = autoencoder.fit(train_data_N, train_data_N,\n",
        "                epochs=25,\n",
        "                shuffle=True,\n",
        "                validation_data=(test_data_N, test_data_N))\n",
        "\n",
        "plot_train_history_loss(history)"
      ],
      "metadata": {
        "colab": {
          "base_uri": "https://localhost:8080/",
          "height": 1000
        },
        "id": "O28te8cXclh-",
        "outputId": "ce2e735d-4019-47d3-93f0-a58fd0a2fe95"
      },
      "execution_count": 37,
      "outputs": [
        {
          "output_type": "stream",
          "name": "stdout",
          "text": [
            "Epoch 1/25\n",
            "1875/1875 [==============================] - 20s 11ms/step - loss: 0.7830 - accuracy: 0.0097 - val_loss: 0.6816 - val_accuracy: 0.0086\n",
            "Epoch 2/25\n",
            "1875/1875 [==============================] - 20s 11ms/step - loss: 0.7349 - accuracy: 0.0155 - val_loss: 0.6689 - val_accuracy: 0.0220\n",
            "Epoch 3/25\n",
            "1875/1875 [==============================] - 23s 12ms/step - loss: 0.7269 - accuracy: 0.0202 - val_loss: 0.6647 - val_accuracy: 0.0199\n",
            "Epoch 4/25\n",
            "1875/1875 [==============================] - 21s 11ms/step - loss: 0.7223 - accuracy: 0.0220 - val_loss: 0.6599 - val_accuracy: 0.0230\n",
            "Epoch 5/25\n",
            "1875/1875 [==============================] - 22s 12ms/step - loss: 0.7179 - accuracy: 0.0246 - val_loss: 0.6566 - val_accuracy: 0.0348\n",
            "Epoch 6/25\n",
            "1875/1875 [==============================] - 23s 12ms/step - loss: 0.7124 - accuracy: 0.0282 - val_loss: 0.6497 - val_accuracy: 0.0275\n",
            "Epoch 7/25\n",
            "1875/1875 [==============================] - 24s 13ms/step - loss: 0.7080 - accuracy: 0.0282 - val_loss: 0.6471 - val_accuracy: 0.0331\n",
            "Epoch 8/25\n",
            "1875/1875 [==============================] - 25s 13ms/step - loss: 0.7050 - accuracy: 0.0308 - val_loss: 0.6446 - val_accuracy: 0.0336\n",
            "Epoch 9/25\n",
            "1875/1875 [==============================] - 23s 12ms/step - loss: 0.7022 - accuracy: 0.0320 - val_loss: 0.6444 - val_accuracy: 0.0349\n",
            "Epoch 10/25\n",
            "1875/1875 [==============================] - 24s 13ms/step - loss: 0.7002 - accuracy: 0.0347 - val_loss: 0.6414 - val_accuracy: 0.0354\n",
            "Epoch 11/25\n",
            "1875/1875 [==============================] - 26s 14ms/step - loss: 0.6984 - accuracy: 0.0367 - val_loss: 0.6404 - val_accuracy: 0.0414\n",
            "Epoch 12/25\n",
            "1875/1875 [==============================] - 26s 14ms/step - loss: 0.6972 - accuracy: 0.0394 - val_loss: 0.6394 - val_accuracy: 0.0393\n",
            "Epoch 13/25\n",
            "1875/1875 [==============================] - 26s 14ms/step - loss: 0.6960 - accuracy: 0.0398 - val_loss: 0.6379 - val_accuracy: 0.0429\n",
            "Epoch 14/25\n",
            "1875/1875 [==============================] - 26s 14ms/step - loss: 0.6950 - accuracy: 0.0423 - val_loss: 0.6374 - val_accuracy: 0.0443\n",
            "Epoch 15/25\n",
            "1875/1875 [==============================] - 26s 14ms/step - loss: 0.6941 - accuracy: 0.0430 - val_loss: 0.6372 - val_accuracy: 0.0502\n",
            "Epoch 16/25\n",
            "1875/1875 [==============================] - 27s 14ms/step - loss: 0.6935 - accuracy: 0.0461 - val_loss: 0.6381 - val_accuracy: 0.0493\n",
            "Epoch 17/25\n",
            "1875/1875 [==============================] - 26s 14ms/step - loss: 0.6924 - accuracy: 0.0464 - val_loss: 0.6370 - val_accuracy: 0.0450\n",
            "Epoch 18/25\n",
            "1875/1875 [==============================] - 24s 13ms/step - loss: 0.6916 - accuracy: 0.0468 - val_loss: 0.6360 - val_accuracy: 0.0548\n",
            "Epoch 19/25\n",
            "1875/1875 [==============================] - 23s 12ms/step - loss: 0.6908 - accuracy: 0.0491 - val_loss: 0.6350 - val_accuracy: 0.0466\n",
            "Epoch 20/25\n",
            "1875/1875 [==============================] - 22s 12ms/step - loss: 0.6905 - accuracy: 0.0499 - val_loss: 0.6340 - val_accuracy: 0.0510\n",
            "Epoch 21/25\n",
            "1875/1875 [==============================] - 25s 13ms/step - loss: 0.6899 - accuracy: 0.0520 - val_loss: 0.6337 - val_accuracy: 0.0575\n",
            "Epoch 22/25\n",
            "1875/1875 [==============================] - 21s 11ms/step - loss: 0.6890 - accuracy: 0.0514 - val_loss: 0.6333 - val_accuracy: 0.0518\n",
            "Epoch 23/25\n",
            "1875/1875 [==============================] - 22s 12ms/step - loss: 0.6884 - accuracy: 0.0516 - val_loss: 0.6334 - val_accuracy: 0.0608\n",
            "Epoch 24/25\n",
            "1875/1875 [==============================] - 21s 11ms/step - loss: 0.6882 - accuracy: 0.0538 - val_loss: 0.6333 - val_accuracy: 0.0585\n",
            "Epoch 25/25\n",
            "1875/1875 [==============================] - 21s 11ms/step - loss: 0.6876 - accuracy: 0.0558 - val_loss: 0.6321 - val_accuracy: 0.0526\n"
          ]
        },
        {
          "output_type": "display_data",
          "data": {
            "text/plain": [
              "<Figure size 432x288 with 1 Axes>"
            ],
            "image/png": "[encoded data removed]"
          },
          "metadata": {
            "needs_background": "light"
          }
        }
      ]
    },
    {
      "cell_type": "code",
      "source": [
        "encoded_train = autoencoder.predict(train_data_N)\n",
        "encoded_test  = autoencoder.predict(test_data_N)"
      ],
      "metadata": {
        "id": "i9Jdxcdkcqnp"
      },
      "execution_count": 38,
      "outputs": []
    },
    {
      "cell_type": "code",
      "source": [
        "display_reconstructed(test_data_N, encoded_test, 10)"
      ],
      "metadata": {
        "colab": {
          "base_uri": "https://localhost:8080/",
          "height": 248
        },
        "id": "eSv7k7C6g3_c",
        "outputId": "3cab1867-1647-45e9-afa8-21b253463aed"
      },
      "execution_count": 39,
      "outputs": [
        {
          "output_type": "display_data",
          "data": {
            "text/plain": [
              "<Figure size 1440x288 with 20 Axes>"
            ],
            "image/png": "[encoded data removed]"
          },
          "metadata": {
            "needs_background": "light"
          }
        }
      ]
    },
    {
      "cell_type": "code",
      "source": [
        "from sklearn.neighbors import KNeighborsClassifier\n",
        "from sklearn import metrics\n",
        "k = 3\n",
        "kNN_model = KNeighborsClassifier(n_neighbors=k).fit(encoded_train, train_labels)\n",
        "yhat = kNN_model.predict(encoded_test)\n",
        "metrics.accuracy_score(test_labels, yhat)"
      ],
      "metadata": {
        "colab": {
          "base_uri": "https://localhost:8080/"
        },
        "id": "1hBFayFJgqpu",
        "outputId": "e0b60383-a176-443b-d851-4ea5052c8888"
      },
      "execution_count": 40,
      "outputs": [
        {
          "output_type": "execute_result",
          "data": {
            "text/plain": [
              "0.924"
            ]
          },
          "metadata": {},
          "execution_count": 40
        }
      ]
    },
    {
      "cell_type": "code",
      "source": [
        "k_3_ae = metrics.accuracy_score(test_labels, yhat)"
      ],
      "metadata": {
        "id": "7qegFUHzhVdb"
      },
      "execution_count": 41,
      "outputs": []
    },
    {
      "cell_type": "code",
      "source": [
        "from sklearn.neighbors import KNeighborsClassifier\n",
        "from sklearn import metrics\n",
        "k = 5\n",
        "kNN_model = KNeighborsClassifier(n_neighbors=k).fit(encoded_train, train_labels)\n",
        "yhat = kNN_model.predict(encoded_test)\n",
        "metrics.accuracy_score(test_labels, yhat)"
      ],
      "metadata": {
        "colab": {
          "base_uri": "https://localhost:8080/"
        },
        "id": "lr4HQK7UhSPN",
        "outputId": "33710898-1672-42ac-ccf7-17be14e1e070"
      },
      "execution_count": 42,
      "outputs": [
        {
          "output_type": "execute_result",
          "data": {
            "text/plain": [
              "0.9305"
            ]
          },
          "metadata": {},
          "execution_count": 42
        }
      ]
    },
    {
      "cell_type": "code",
      "source": [
        "k_5_ae = metrics.accuracy_score(test_labels, yhat)"
      ],
      "metadata": {
        "id": "WQNxnlrchYK4"
      },
      "execution_count": 53,
      "outputs": []
    },
    {
      "cell_type": "markdown",
      "source": [
        "# Comparing Test Accuracies"
      ],
      "metadata": {
        "id": "oS5I1HZ8juH_"
      }
    },
    {
      "cell_type": "code",
      "source": [
        "import pandas as pd"
      ],
      "metadata": {
        "id": "Q-BNuqFjhhNK"
      },
      "execution_count": 46,
      "outputs": []
    },
    {
      "cell_type": "code",
      "source": [
        "data = {'Techniques':['PCA', 'LDA', 'AutoEncoder'],\n",
        "        'Accuracy (k =3) in %':[k_3*100 ,k_3_lda*100 , k_3_ae*100],\n",
        "        'Accuracy (k =5) in %':[k_5*100 ,k_5_lda*100 , k_5_ae*100]}\n",
        "df = pd.DataFrame(data)"
      ],
      "metadata": {
        "id": "HlMXqaDHh6sT"
      },
      "execution_count": 55,
      "outputs": []
    },
    {
      "cell_type": "code",
      "source": [
        "print(df)"
      ],
      "metadata": {
        "colab": {
          "base_uri": "https://localhost:8080/"
        },
        "id": "MFVhGQQ_ix0Y",
        "outputId": "c9a19ede-e5e2-4b52-a7fa-d22d3d3c0fcf"
      },
      "execution_count": 56,
      "outputs": [
        {
          "output_type": "stream",
          "name": "stdout",
          "text": [
            "    Techniques  Accuracy (k =3) in %  Accuracy (k =5) in %\n",
            "0          PCA                 88.14                 88.95\n",
            "1          LDA                 90.94                 91.41\n",
            "2  AutoEncoder                 92.40                 93.05\n"
          ]
        }
      ]
    },
    {
      "cell_type": "code",
      "source": [
        ""
      ],
      "metadata": {
        "id": "aHK_2U8si-hB"
      },
      "execution_count": null,
      "outputs": []
    }
  ]
}